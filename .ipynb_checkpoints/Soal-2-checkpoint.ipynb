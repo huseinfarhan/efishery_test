{
 "cells": [
  {
   "cell_type": "code",
   "execution_count": 1,
   "id": "7bd2ae05",
   "metadata": {},
   "outputs": [],
   "source": [
    "import pandas as pd\n",
    "import numpy as np\n",
    "import re"
   ]
  },
  {
   "cell_type": "code",
   "execution_count": 2,
   "id": "40dffa8e",
   "metadata": {},
   "outputs": [],
   "source": [
    "pd.options.display.html.table_schema=True\n",
    "pd.options.display.max_columns=999\n",
    "pd.options.display.max_rows=999"
   ]
  },
  {
   "cell_type": "code",
   "execution_count": 2,
   "id": "1e7f1f94",
   "metadata": {},
   "outputs": [],
   "source": [
    "df_raw_json = pd.read_json(\"soal-2.json\", orient=\"records\")"
   ]
  },
  {
   "cell_type": "code",
   "execution_count": 3,
   "id": "57c18e0a",
   "metadata": {},
   "outputs": [
    {
     "name": "stdout",
     "output_type": "stream",
     "text": [
      "<class 'pandas.core.frame.DataFrame'>\n",
      "RangeIndex: 1054 entries, 0 to 1053\n",
      "Data columns (total 2 columns):\n",
      " #   Column     Non-Null Count  Dtype \n",
      "---  ------     --------------  ----- \n",
      " 0   komoditas  1054 non-null   object\n",
      " 1   berat      1054 non-null   object\n",
      "dtypes: object(2)\n",
      "memory usage: 16.6+ KB\n"
     ]
    }
   ],
   "source": [
    "df_raw_json.info()"
   ]
  },
  {
   "cell_type": "code",
   "execution_count": 37,
   "id": "15d7fd3c",
   "metadata": {
    "scrolled": true
   },
   "outputs": [
    {
     "data": {
      "application/vnd.dataresource+json": {
       "data": [
        {
         "berat": "5kg, 6kg, 6kg, 8kg, 8kg, 5kg, 3kg, 3kg, 5kg",
         "index": 600,
         "komoditas": "gurame, nila, patin, mas, lele, kakap, pari, baracuda, kerapu"
        },
        {
         "berat": "7kg, 7kg, 7kg, 7kg",
         "index": 601,
         "komoditas": "tongkol, kakap, kembung, nila"
        },
        {
         "berat": "6kg, 5kg, 5kg, 10kg",
         "index": 602,
         "komoditas": "gurame, nila, patin, mas"
        },
        {
         "berat": "8kg, 5kg, 5kg",
         "index": 603,
         "komoditas": "gurame, kakap, mas"
        },
        {
         "berat": "4",
         "index": 604,
         "komoditas": "ikan lele"
        },
        {
         "berat": "3",
         "index": 605,
         "komoditas": "ikan mas, lele"
        },
        {
         "berat": "5",
         "index": 606,
         "komoditas": "ikan lele"
        },
        {
         "berat": "5",
         "index": 607,
         "komoditas": "ikan mas,bawal,lele"
        },
        {
         "berat": "5",
         "index": 608,
         "komoditas": "ikan mas,gurame,lele"
        },
        {
         "berat": "5",
         "index": 609,
         "komoditas": "ikan lele"
        },
        {
         "berat": "5",
         "index": 610,
         "komoditas": "ikan mas, lele, bawal"
        },
        {
         "berat": "5",
         "index": 611,
         "komoditas": "ikan mas, lele"
        },
        {
         "berat": "5",
         "index": 612,
         "komoditas": "ikan lele"
        },
        {
         "berat": "5",
         "index": 613,
         "komoditas": "ikan mas, lele"
        },
        {
         "berat": "5 ",
         "index": 614,
         "komoditas": "ikan laut"
        },
        {
         "berat": "3",
         "index": 615,
         "komoditas": "ikan lele"
        },
        {
         "berat": "5",
         "index": 616,
         "komoditas": "ikan mas, lele, bawal"
        },
        {
         "berat": "5",
         "index": 617,
         "komoditas": "ikan mas"
        },
        {
         "berat": "6",
         "index": 618,
         "komoditas": "ikan mas, lele, gurame"
        },
        {
         "berat": "4",
         "index": 619,
         "komoditas": "ikan lele"
        },
        {
         "berat": "5",
         "index": 620,
         "komoditas": "ikan lele"
        },
        {
         "berat": "2kg, 2kg, 2kg, 2kg,",
         "index": 621,
         "komoditas": "kembung, tongkol, lele, kakap"
        },
        {
         "berat": "3kg, 3kg, 3kg",
         "index": 622,
         "komoditas": "tongkol, kembung, lele"
        },
        {
         "berat": "2kg, 2kg, 2kg, 2kg",
         "index": 623,
         "komoditas": "mas, nila, mujaer, lele"
        },
        {
         "berat": "2kg, 2kg, 3kg, 2kg",
         "index": 624,
         "komoditas": "mas, nila, tongkol, lele"
        },
        {
         "berat": "2kg, 2kg, 2kg",
         "index": 625,
         "komoditas": "tongkol, mas, lele"
        },
        {
         "berat": "2kg, 2kg, 2kg",
         "index": 626,
         "komoditas": "tongkol, mas, lele,"
        },
        {
         "berat": "2kg, 2kg, 2kg",
         "index": 627,
         "komoditas": "lele, tongkol, nila,"
        },
        {
         "berat": "1kg, 2kg, 2kg",
         "index": 628,
         "komoditas": "mas, lele, nila"
        },
        {
         "berat": "2 kg, 2 kg, 2kg",
         "index": 629,
         "komoditas": "tongkol, nila, mas"
        },
        {
         "berat": "3 kg, 2 kg, 3 kg , 3 kg",
         "index": 630,
         "komoditas": "kembung, tongkol, lele, nila"
        },
        {
         "berat": "2kg, 3 kg, 3kg",
         "index": 631,
         "komoditas": "gurame, nila, lele"
        },
        {
         "berat": "2 kg, 2 kg, 2 kg",
         "index": 632,
         "komoditas": "tongkol, nila, lele"
        },
        {
         "berat": "2 kg, 2 kg, 3 kg",
         "index": 633,
         "komoditas": "kembung, nila, lele"
        },
        {
         "berat": "3 kg, 3 kg, 3kg, 3kg, 3 kg",
         "index": 634,
         "komoditas": "nila, lele, gurame, kerapu, cakalang"
        },
        {
         "berat": "3kg , 3 kg, 3 kg",
         "index": 635,
         "komoditas": "kembung, lele, nila"
        },
        {
         "berat": "3 kg , 3 kg, 3 kg",
         "index": 636,
         "komoditas": "kembung, nila, lele"
        },
        {
         "berat": "3 kg, 3 kg , 3 kg",
         "index": 637,
         "komoditas": "lele, nila, kembung"
        },
        {
         "berat": "1-2 ",
         "index": 638,
         "komoditas": "ikan mas,nila"
        },
        {
         "berat": "rata-rata 2 ",
         "index": 639,
         "komoditas": "ikan mas, lele"
        },
        {
         "berat": "1",
         "index": 640,
         "komoditas": "ikan mas, nila merah"
        },
        {
         "berat": "4, 5, 5",
         "index": 641,
         "komoditas": "kakap, tongkol, nila"
        },
        {
         "berat": "6, 5, 6",
         "index": 642,
         "komoditas": "bawal, nila, kakap,"
        },
        {
         "berat": "5, 6",
         "index": 643,
         "komoditas": "nila, tongkol"
        },
        {
         "berat": "6, 4",
         "index": 644,
         "komoditas": "tongkol, kakap"
        },
        {
         "berat": "2-4",
         "index": 645,
         "komoditas": "ikan mas, nila merah, lele"
        },
        {
         "berat": "1",
         "index": 646,
         "komoditas": "ikan mas,gurami"
        },
        {
         "berat": "1-2",
         "index": 647,
         "komoditas": "ikan lele,nila"
        },
        {
         "berat": "1",
         "index": 648,
         "komoditas": "ikan mas, lele"
        },
        {
         "berat": "5-5,5",
         "index": 649,
         "komoditas": "ikan mas,nila merah,gurame,lele"
        },
        {
         "berat": "2",
         "index": 650,
         "komoditas": "ikan mas, lele, nila merah"
        },
        {
         "berat": "2-3",
         "index": 651,
         "komoditas": "ikan lele"
        },
        {
         "berat": "2",
         "index": 652,
         "komoditas": "ikan lele"
        },
        {
         "berat": "2",
         "index": 653,
         "komoditas": "ikan lele"
        },
        {
         "berat": "1",
         "index": 654,
         "komoditas": "ikan mas"
        },
        {
         "berat": "2-3",
         "index": 655,
         "komoditas": "ikan mas,lele"
        },
        {
         "berat": "9",
         "index": 656,
         "komoditas": "lele"
        },
        {
         "berat": "5, 4, 4",
         "index": 657,
         "komoditas": "tongkol, kakap, kembung"
        },
        {
         "berat": "5, 6, 4",
         "index": 658,
         "komoditas": "tongkol, mas, mujaer"
        },
        {
         "berat": "10",
         "index": 659,
         "komoditas": "lele"
        },
        {
         "berat": "1,5-2",
         "index": 660,
         "komoditas": "ikan mas,mujair"
        },
        {
         "berat": "5, 6",
         "index": 661,
         "komoditas": "tongkol, nila"
        },
        {
         "berat": "7",
         "index": 662,
         "komoditas": "tongkol"
        },
        {
         "berat": "5,3",
         "index": 663,
         "komoditas": "mas, mujaer"
        },
        {
         "berat": "5, 7",
         "index": 664,
         "komoditas": "nila, tongkol"
        },
        {
         "berat": "8",
         "index": 665,
         "komoditas": "lele"
        },
        {
         "berat": "4,4",
         "index": 666,
         "komoditas": "tongkol, lele"
        },
        {
         "berat": "5,6,5",
         "index": 667,
         "komoditas": "nila, kakap, mas"
        },
        {
         "berat": "2 kg, 2 kg, 2 kg",
         "index": 668,
         "komoditas": "kembung, lele, mas"
        },
        {
         "berat": "2 kg, 2 kg, 2 kg, 2 kg",
         "index": 669,
         "komoditas": "tongkol, nila, mas, lele"
        },
        {
         "berat": "3 kg, 3kg, 3kg, 3kg",
         "index": 670,
         "komoditas": "kembung, nila, mas, lele"
        },
        {
         "berat": "3 kg, 3 kg, 3kg, 3kg ",
         "index": 671,
         "komoditas": "lele, nila, kembung, mas"
        },
        {
         "berat": "2 kg, 2 kg",
         "index": 672,
         "komoditas": "mas, lele"
        },
        {
         "berat": "3 kg, 3 kg, 2 kg",
         "index": 673,
         "komoditas": "kembung, lele, kakap"
        },
        {
         "berat": "3 kg, 3 kg, 3kg",
         "index": 674,
         "komoditas": "lele, nila, kembung"
        },
        {
         "berat": "3 kg, 3 kg, 3 kg",
         "index": 675,
         "komoditas": "kembung, nila, lele"
        },
        {
         "berat": "2 kg, 2 kg, 2 kg, 2kg, 3 kg",
         "index": 676,
         "komoditas": "lele, nila, mas, kembung, tongkol"
        },
        {
         "berat": "2 kg ,2 kg",
         "index": 677,
         "komoditas": "tongkol, nila"
        },
        {
         "berat": "3 kg, 3 kg",
         "index": 678,
         "komoditas": "nila, tongkol"
        },
        {
         "berat": "2 kg, 2 kg, 2 kg",
         "index": 679,
         "komoditas": "lele, tongkol, nila"
        },
        {
         "berat": "2 kg, 2 kg, 1 kg",
         "index": 680,
         "komoditas": "nila, tongkol, kakap"
        },
        {
         "berat": "2 kg, 3 kg, 3 kg, 2 kg",
         "index": 681,
         "komoditas": "kakap, lele, kembung, nila"
        },
        {
         "berat": "2 kg, 3  kg, 3 kg, 3 kg",
         "index": 682,
         "komoditas": "kakap, nila, kembung, tongkol"
        },
        {
         "berat": "3 kg, 3 kg",
         "index": 683,
         "komoditas": "lele, nila"
        },
        {
         "berat": "3 kg, 3 kg, 3 kg",
         "index": 684,
         "komoditas": "lele, kembung, nila"
        },
        {
         "berat": "3 kg, 3 kg",
         "index": 685,
         "komoditas": "tongkol, kembung"
        },
        {
         "berat": "5 kg, 6 kg, 6 kg",
         "index": 686,
         "komoditas": "gurame, nila, mas"
        },
        {
         "berat": "3 kg, 3 kg, 2 kg",
         "index": 687,
         "komoditas": "lele, kembung, kakap"
        },
        {
         "berat": "2-3",
         "index": 688,
         "komoditas": "ikan mas,lele"
        },
        {
         "berat": "2",
         "index": 689,
         "komoditas": "ikan lele, mas, nila merah"
        },
        {
         "berat": "1-2",
         "index": 690,
         "komoditas": "ikan mas,lele,bawal"
        },
        {
         "berat": "1,5 kg",
         "index": 691,
         "komoditas": "ikan mas,mujair"
        },
        {
         "berat": "masing-masing 1 kg",
         "index": 692,
         "komoditas": "ikan mas,nila "
        },
        {
         "berat": "1/2 ",
         "index": 693,
         "komoditas": "ikan mas,lele"
        },
        {
         "berat": "3",
         "index": 694,
         "komoditas": "ikan mas,bawal,lele"
        },
        {
         "berat": "1kg",
         "index": 695,
         "komoditas": "ikan mas,lele"
        },
        {
         "berat": "1-2",
         "index": 696,
         "komoditas": "ikan mas, nila merah,gurame"
        },
        {
         "berat": "5",
         "index": 697,
         "komoditas": "ikan mas,lele,nila,bawal"
        },
        {
         "berat": "3 kg",
         "index": 698,
         "komoditas": "ikan lele"
        },
        {
         "berat": "1-1,5",
         "index": 699,
         "komoditas": "ikan mas,lele"
        },
        {
         "berat": "2-3",
         "index": 700,
         "komoditas": "ikan lele"
        },
        {
         "berat": "1 1/2",
         "index": 701,
         "komoditas": "ikan mas, lele, mujair"
        },
        {
         "berat": "3",
         "index": 702,
         "komoditas": "ikan lele"
        },
        {
         "berat": "1 1/2 ",
         "index": 703,
         "komoditas": "ikan mas, lele"
        },
        {
         "berat": "5, 5",
         "index": 704,
         "komoditas": "kakap, kembung"
        },
        {
         "berat": "4, 6",
         "index": 705,
         "komoditas": "kembung, bawal"
        },
        {
         "berat": "5,4,4",
         "index": 706,
         "komoditas": "bawal, nila, kakap"
        },
        {
         "berat": "10",
         "index": 707,
         "komoditas": "lele"
        },
        {
         "berat": "6, 3",
         "index": 708,
         "komoditas": "kakap, kembung"
        },
        {
         "berat": "5,6",
         "index": 709,
         "komoditas": "tongkol, mas"
        },
        {
         "berat": "9",
         "index": 710,
         "komoditas": "lele"
        },
        {
         "berat": "5, 6",
         "index": 711,
         "komoditas": "mas, lele"
        },
        {
         "berat": "10",
         "index": 712,
         "komoditas": "lele"
        },
        {
         "berat": "9",
         "index": 713,
         "komoditas": "lele"
        },
        {
         "berat": "7",
         "index": 714,
         "komoditas": "lele"
        },
        {
         "berat": "5,5,5",
         "index": 715,
         "komoditas": "nila, bawal, kakap"
        },
        {
         "berat": "6, 4",
         "index": 716,
         "komoditas": "mas, mujaer"
        },
        {
         "berat": "4, 3, 3",
         "index": 717,
         "komoditas": "mas, mujaer, tongkol"
        },
        {
         "berat": "4, 4",
         "index": 718,
         "komoditas": "tongkol, mas"
        },
        {
         "berat": "2 kg, 2  kg, 2kg, 2 kg",
         "index": 719,
         "komoditas": "tongkol, mujaer, mas, nila"
        },
        {
         "berat": "2kg, 2kg, 2kg, 2kg",
         "index": 720,
         "komoditas": "tongkol, kembung, lele, kakap"
        },
        {
         "berat": "2kg, 2kg, 1kg",
         "index": 721,
         "komoditas": "mas, tongkol, nila"
        },
        {
         "berat": "2kg, 2kg, 2kg, 2kg, ",
         "index": 722,
         "komoditas": "tongkol, mas, lele, nila"
        },
        {
         "berat": "2kg, 2kg, 2kg, 2kg",
         "index": 723,
         "komoditas": "mas, tongkol, lele, nila"
        },
        {
         "berat": "3kg, 3kg, 3kg, 3kg",
         "index": 724,
         "komoditas": "lele, kerapu, kakap, gurame"
        },
        {
         "berat": "2kg, 2kg, 2kg, 3kg",
         "index": 725,
         "komoditas": "kakap, lele, tongkol, kembung"
        },
        {
         "berat": "2kg, 2kg, 2kg,",
         "index": 726,
         "komoditas": "mas, tongkol, kembung, "
        },
        {
         "berat": "2kg, 3kg, 3kg, 2kg, 2kg",
         "index": 727,
         "komoditas": "kakap, kembung, tongkol, lele, mujaer"
        },
        {
         "berat": "2kg, 2kg, 2kg, 2kg, 2kg, ",
         "index": 728,
         "komoditas": "mas, tongkol, mujaer, lele, nila"
        },
        {
         "berat": "3kg, 3kg, 2kg",
         "index": 729,
         "komoditas": "tongkol, kembung, lele"
        },
        {
         "berat": "2kg, 2kg, 2kg, 2kg",
         "index": 730,
         "komoditas": "mas, nila, lele, tongkol, "
        },
        {
         "berat": "2kg, 2kg, 2kg",
         "index": 731,
         "komoditas": "mas, tongkol, nila"
        },
        {
         "berat": "2kg, 2kg, 2kg, 2kg,",
         "index": 732,
         "komoditas": "lele, mas, mujaer, tongkol"
        },
        {
         "berat": "5kg",
         "index": 733,
         "komoditas": "lele"
        },
        {
         "berat": "3kg, 3kg, 2kg, 2kg",
         "index": 734,
         "komoditas": "kembung, tongkol, lele, kakap"
        },
        {
         "berat": "3kg, 3kg, 2kg, 2kg, 2kg",
         "index": 735,
         "komoditas": "tongkol, kembung, lele, kakap, nila"
        },
        {
         "berat": "5,4",
         "index": 736,
         "komoditas": "mas, mujaer"
        },
        {
         "berat": "6,3",
         "index": 737,
         "komoditas": "lele, nila"
        },
        {
         "berat": "5,4,4",
         "index": 738,
         "komoditas": "tongkol, kakap, nila"
        },
        {
         "berat": "6, 5, 5",
         "index": 739,
         "komoditas": "nila, bawal, lele"
        },
        {
         "berat": "6, 3",
         "index": 740,
         "komoditas": "kakap, kembung"
        },
        {
         "berat": "5, 6",
         "index": 741,
         "komoditas": "tongkol, nila"
        },
        {
         "berat": "4, 5, 5",
         "index": 742,
         "komoditas": "mas, mujaer, tongkol"
        },
        {
         "berat": "10",
         "index": 743,
         "komoditas": "lele"
        },
        {
         "berat": "6 ",
         "index": 744,
         "komoditas": "mas"
        },
        {
         "berat": "6, 4, 4",
         "index": 745,
         "komoditas": "mas, mujaer, nila"
        },
        {
         "berat": "5, 4, 4",
         "index": 746,
         "komoditas": "mas, nila, kakap"
        },
        {
         "berat": "6, 5",
         "index": 747,
         "komoditas": "mas, mujaer"
        },
        {
         "berat": "5, t",
         "index": 748,
         "komoditas": "nila, lele"
        },
        {
         "berat": "5,4,4",
         "index": 749,
         "komoditas": "mas, mujaer, tongkol"
        },
        {
         "berat": "5, 5, 4",
         "index": 750,
         "komoditas": "mas, nila, kakap"
        },
        {
         "berat": "6, 4, 4",
         "index": 751,
         "komoditas": "tongkol, mas, lele"
        },
        {
         "berat": "4,4",
         "index": 752,
         "komoditas": "mas, mujaer"
        },
        {
         "berat": "5,5",
         "index": 753,
         "komoditas": "tongkol, nila"
        },
        {
         "berat": "5, 4",
         "index": 754,
         "komoditas": "nila, kakap"
        },
        {
         "berat": "5kg, 5kg, 5kg",
         "index": 755,
         "komoditas": "mas, lele, tongkol"
        },
        {
         "berat": "6kg, 5kg, 5kg",
         "index": 756,
         "komoditas": "tongkol, lele nila"
        },
        {
         "berat": "6kg, 6kg",
         "index": 757,
         "komoditas": "mas, lele"
        },
        {
         "berat": "5kg, 7kg",
         "index": 758,
         "komoditas": "tongkol, lele"
        },
        {
         "berat": "8kg",
         "index": 759,
         "komoditas": "lele"
        },
        {
         "berat": "7kg, 7kg, 5kg",
         "index": 760,
         "komoditas": "tongkol, lele, nila"
        },
        {
         "berat": "10 kg",
         "index": 761,
         "komoditas": "lele"
        },
        {
         "berat": "6kg, 6kg",
         "index": 762,
         "komoditas": "tongkol, lele"
        },
        {
         "berat": "7kg, 5kg, 5kg",
         "index": 763,
         "komoditas": "lele, tongkol, nila"
        },
        {
         "berat": "6kg, 6kg",
         "index": 764,
         "komoditas": "lele, tongkol"
        },
        {
         "berat": "5kg, 6kg, 4kg, 6kg",
         "index": 765,
         "komoditas": "tongkol, lele, nila, mas"
        },
        {
         "berat": "4kg, 5kg",
         "index": 766,
         "komoditas": "tongkol, lele"
        },
        {
         "berat": "5kg, 5kg, 4kg",
         "index": 767,
         "komoditas": "mas, lele, nila"
        },
        {
         "berat": "5kg, 5kg, 5kg",
         "index": 768,
         "komoditas": "bawal, kakap, mas"
        },
        {
         "berat": "6kg, 6kg, 4kg",
         "index": 769,
         "komoditas": "tongkol, lele, nila"
        },
        {
         "berat": "7kg, 7kg, 5kg",
         "index": 770,
         "komoditas": "mas, lele, nila"
        },
        {
         "berat": "5kg, 7kg",
         "index": 771,
         "komoditas": "tongkol, lele"
        },
        {
         "berat": "10 kg",
         "index": 772,
         "komoditas": "lele"
        },
        {
         "berat": "7kg, 7kg, 5kg",
         "index": 773,
         "komoditas": "tongkol, lele, nila"
        },
        {
         "berat": "6kg, 5kg, 5kg, 7kg",
         "index": 774,
         "komoditas": "mujair, nila, bawal, mas"
        },
        {
         "berat": "7kg, 6kg",
         "index": 775,
         "komoditas": "tongkol, lele"
        },
        {
         "berat": "6kg, 6kg, 5kg",
         "index": 776,
         "komoditas": "tongkol, lele, nila"
        },
        {
         "berat": "6kg, 5kg",
         "index": 777,
         "komoditas": "mas, tongkol"
        },
        {
         "berat": "5kg, 5kg",
         "index": 778,
         "komoditas": "tongkol, lele"
        },
        {
         "berat": "7kg, 7kg, 6kg",
         "index": 779,
         "komoditas": "lele, tongkol, nila"
        },
        {
         "berat": "6kg, 5kg, 5kg",
         "index": 780,
         "komoditas": "tongkol, lele, nila"
        },
        {
         "berat": "2,5",
         "index": 781,
         "komoditas": "ikan mas,lele,bawal"
        },
        {
         "berat": "1-1/2 ",
         "index": 782,
         "komoditas": "ikan mas,mujair"
        },
        {
         "berat": "5-6",
         "index": 783,
         "komoditas": "ikan mas,lele,bawal,gurame,kerapu"
        },
        {
         "berat": "2-3",
         "index": 784,
         "komoditas": "ikan lele,nila,ikan laut"
        },
        {
         "berat": "3-3,5",
         "index": 785,
         "komoditas": "ikan laut"
        },
        {
         "berat": "3 kg",
         "index": 786,
         "komoditas": "ikan mas, lele, nila merah"
        },
        {
         "berat": "1-2",
         "index": 787,
         "komoditas": "ikan mas, mujair"
        },
        {
         "berat": "2-3",
         "index": 788,
         "komoditas": "ikan lele"
        },
        {
         "berat": "1-1,5",
         "index": 789,
         "komoditas": "ikn mas,mujair"
        },
        {
         "berat": "1/2 kg",
         "index": 790,
         "komoditas": "ikan mas,impun"
        },
        {
         "berat": "5",
         "index": 791,
         "komoditas": "ikan mas,bawal,salem,bandeng"
        },
        {
         "berat": "2",
         "index": 792,
         "komoditas": "ikan mas,bawal"
        },
        {
         "berat": "3",
         "index": 793,
         "komoditas": "ikan lele"
        },
        {
         "berat": "2-3 kg",
         "index": 794,
         "komoditas": "ikan mas, lele, nila"
        },
        {
         "berat": "1 kg masing masing",
         "index": 795,
         "komoditas": "ikan mas dan bawal"
        },
        {
         "berat": "3",
         "index": 796,
         "komoditas": "ikan  mas, lele, bawal, salem"
        },
        {
         "berat": "2-3",
         "index": 797,
         "komoditas": "ikan lele"
        },
        {
         "berat": "5",
         "index": 798,
         "komoditas": "ikan laut"
        },
        {
         "berat": "2-3",
         "index": 799,
         "komoditas": "ikan mas, lele, bawal"
        }
       ],
       "schema": {
        "fields": [
         {
          "name": "index",
          "type": "integer"
         },
         {
          "name": "komoditas",
          "type": "string"
         },
         {
          "name": "berat",
          "type": "string"
         }
        ],
        "pandas_version": "0.20.0",
        "primaryKey": [
         "index"
        ]
       }
      },
      "text/html": [
       "<div>\n",
       "<style scoped>\n",
       "    .dataframe tbody tr th:only-of-type {\n",
       "        vertical-align: middle;\n",
       "    }\n",
       "\n",
       "    .dataframe tbody tr th {\n",
       "        vertical-align: top;\n",
       "    }\n",
       "\n",
       "    .dataframe thead th {\n",
       "        text-align: right;\n",
       "    }\n",
       "</style>\n",
       "<table border=\"1\" class=\"dataframe\">\n",
       "  <thead>\n",
       "    <tr style=\"text-align: right;\">\n",
       "      <th></th>\n",
       "      <th>komoditas</th>\n",
       "      <th>berat</th>\n",
       "    </tr>\n",
       "  </thead>\n",
       "  <tbody>\n",
       "    <tr>\n",
       "      <th>600</th>\n",
       "      <td>gurame, nila, patin, mas, lele, kakap, pari, b...</td>\n",
       "      <td>5kg, 6kg, 6kg, 8kg, 8kg, 5kg, 3kg, 3kg, 5kg</td>\n",
       "    </tr>\n",
       "    <tr>\n",
       "      <th>601</th>\n",
       "      <td>tongkol, kakap, kembung, nila</td>\n",
       "      <td>7kg, 7kg, 7kg, 7kg</td>\n",
       "    </tr>\n",
       "    <tr>\n",
       "      <th>602</th>\n",
       "      <td>gurame, nila, patin, mas</td>\n",
       "      <td>6kg, 5kg, 5kg, 10kg</td>\n",
       "    </tr>\n",
       "    <tr>\n",
       "      <th>603</th>\n",
       "      <td>gurame, kakap, mas</td>\n",
       "      <td>8kg, 5kg, 5kg</td>\n",
       "    </tr>\n",
       "    <tr>\n",
       "      <th>604</th>\n",
       "      <td>ikan lele</td>\n",
       "      <td>4</td>\n",
       "    </tr>\n",
       "    <tr>\n",
       "      <th>605</th>\n",
       "      <td>ikan mas, lele</td>\n",
       "      <td>3</td>\n",
       "    </tr>\n",
       "    <tr>\n",
       "      <th>606</th>\n",
       "      <td>ikan lele</td>\n",
       "      <td>5</td>\n",
       "    </tr>\n",
       "    <tr>\n",
       "      <th>607</th>\n",
       "      <td>ikan mas,bawal,lele</td>\n",
       "      <td>5</td>\n",
       "    </tr>\n",
       "    <tr>\n",
       "      <th>608</th>\n",
       "      <td>ikan mas,gurame,lele</td>\n",
       "      <td>5</td>\n",
       "    </tr>\n",
       "    <tr>\n",
       "      <th>609</th>\n",
       "      <td>ikan lele</td>\n",
       "      <td>5</td>\n",
       "    </tr>\n",
       "    <tr>\n",
       "      <th>610</th>\n",
       "      <td>ikan mas, lele, bawal</td>\n",
       "      <td>5</td>\n",
       "    </tr>\n",
       "    <tr>\n",
       "      <th>611</th>\n",
       "      <td>ikan mas, lele</td>\n",
       "      <td>5</td>\n",
       "    </tr>\n",
       "    <tr>\n",
       "      <th>612</th>\n",
       "      <td>ikan lele</td>\n",
       "      <td>5</td>\n",
       "    </tr>\n",
       "    <tr>\n",
       "      <th>613</th>\n",
       "      <td>ikan mas, lele</td>\n",
       "      <td>5</td>\n",
       "    </tr>\n",
       "    <tr>\n",
       "      <th>614</th>\n",
       "      <td>ikan laut</td>\n",
       "      <td>5</td>\n",
       "    </tr>\n",
       "    <tr>\n",
       "      <th>615</th>\n",
       "      <td>ikan lele</td>\n",
       "      <td>3</td>\n",
       "    </tr>\n",
       "    <tr>\n",
       "      <th>616</th>\n",
       "      <td>ikan mas, lele, bawal</td>\n",
       "      <td>5</td>\n",
       "    </tr>\n",
       "    <tr>\n",
       "      <th>617</th>\n",
       "      <td>ikan mas</td>\n",
       "      <td>5</td>\n",
       "    </tr>\n",
       "    <tr>\n",
       "      <th>618</th>\n",
       "      <td>ikan mas, lele, gurame</td>\n",
       "      <td>6</td>\n",
       "    </tr>\n",
       "    <tr>\n",
       "      <th>619</th>\n",
       "      <td>ikan lele</td>\n",
       "      <td>4</td>\n",
       "    </tr>\n",
       "    <tr>\n",
       "      <th>620</th>\n",
       "      <td>ikan lele</td>\n",
       "      <td>5</td>\n",
       "    </tr>\n",
       "    <tr>\n",
       "      <th>621</th>\n",
       "      <td>kembung, tongkol, lele, kakap</td>\n",
       "      <td>2kg, 2kg, 2kg, 2kg,</td>\n",
       "    </tr>\n",
       "    <tr>\n",
       "      <th>622</th>\n",
       "      <td>tongkol, kembung, lele</td>\n",
       "      <td>3kg, 3kg, 3kg</td>\n",
       "    </tr>\n",
       "    <tr>\n",
       "      <th>623</th>\n",
       "      <td>mas, nila, mujaer, lele</td>\n",
       "      <td>2kg, 2kg, 2kg, 2kg</td>\n",
       "    </tr>\n",
       "    <tr>\n",
       "      <th>624</th>\n",
       "      <td>mas, nila, tongkol, lele</td>\n",
       "      <td>2kg, 2kg, 3kg, 2kg</td>\n",
       "    </tr>\n",
       "    <tr>\n",
       "      <th>625</th>\n",
       "      <td>tongkol, mas, lele</td>\n",
       "      <td>2kg, 2kg, 2kg</td>\n",
       "    </tr>\n",
       "    <tr>\n",
       "      <th>626</th>\n",
       "      <td>tongkol, mas, lele,</td>\n",
       "      <td>2kg, 2kg, 2kg</td>\n",
       "    </tr>\n",
       "    <tr>\n",
       "      <th>627</th>\n",
       "      <td>lele, tongkol, nila,</td>\n",
       "      <td>2kg, 2kg, 2kg</td>\n",
       "    </tr>\n",
       "    <tr>\n",
       "      <th>628</th>\n",
       "      <td>mas, lele, nila</td>\n",
       "      <td>1kg, 2kg, 2kg</td>\n",
       "    </tr>\n",
       "    <tr>\n",
       "      <th>629</th>\n",
       "      <td>tongkol, nila, mas</td>\n",
       "      <td>2 kg, 2 kg, 2kg</td>\n",
       "    </tr>\n",
       "    <tr>\n",
       "      <th>630</th>\n",
       "      <td>kembung, tongkol, lele, nila</td>\n",
       "      <td>3 kg, 2 kg, 3 kg , 3 kg</td>\n",
       "    </tr>\n",
       "    <tr>\n",
       "      <th>631</th>\n",
       "      <td>gurame, nila, lele</td>\n",
       "      <td>2kg, 3 kg, 3kg</td>\n",
       "    </tr>\n",
       "    <tr>\n",
       "      <th>632</th>\n",
       "      <td>tongkol, nila, lele</td>\n",
       "      <td>2 kg, 2 kg, 2 kg</td>\n",
       "    </tr>\n",
       "    <tr>\n",
       "      <th>633</th>\n",
       "      <td>kembung, nila, lele</td>\n",
       "      <td>2 kg, 2 kg, 3 kg</td>\n",
       "    </tr>\n",
       "    <tr>\n",
       "      <th>634</th>\n",
       "      <td>nila, lele, gurame, kerapu, cakalang</td>\n",
       "      <td>3 kg, 3 kg, 3kg, 3kg, 3 kg</td>\n",
       "    </tr>\n",
       "    <tr>\n",
       "      <th>635</th>\n",
       "      <td>kembung, lele, nila</td>\n",
       "      <td>3kg , 3 kg, 3 kg</td>\n",
       "    </tr>\n",
       "    <tr>\n",
       "      <th>636</th>\n",
       "      <td>kembung, nila, lele</td>\n",
       "      <td>3 kg , 3 kg, 3 kg</td>\n",
       "    </tr>\n",
       "    <tr>\n",
       "      <th>637</th>\n",
       "      <td>lele, nila, kembung</td>\n",
       "      <td>3 kg, 3 kg , 3 kg</td>\n",
       "    </tr>\n",
       "    <tr>\n",
       "      <th>638</th>\n",
       "      <td>ikan mas,nila</td>\n",
       "      <td>1-2</td>\n",
       "    </tr>\n",
       "    <tr>\n",
       "      <th>639</th>\n",
       "      <td>ikan mas, lele</td>\n",
       "      <td>rata-rata 2</td>\n",
       "    </tr>\n",
       "    <tr>\n",
       "      <th>640</th>\n",
       "      <td>ikan mas, nila merah</td>\n",
       "      <td>1</td>\n",
       "    </tr>\n",
       "    <tr>\n",
       "      <th>641</th>\n",
       "      <td>kakap, tongkol, nila</td>\n",
       "      <td>4, 5, 5</td>\n",
       "    </tr>\n",
       "    <tr>\n",
       "      <th>642</th>\n",
       "      <td>bawal, nila, kakap,</td>\n",
       "      <td>6, 5, 6</td>\n",
       "    </tr>\n",
       "    <tr>\n",
       "      <th>643</th>\n",
       "      <td>nila, tongkol</td>\n",
       "      <td>5, 6</td>\n",
       "    </tr>\n",
       "    <tr>\n",
       "      <th>644</th>\n",
       "      <td>tongkol, kakap</td>\n",
       "      <td>6, 4</td>\n",
       "    </tr>\n",
       "    <tr>\n",
       "      <th>645</th>\n",
       "      <td>ikan mas, nila merah, lele</td>\n",
       "      <td>2-4</td>\n",
       "    </tr>\n",
       "    <tr>\n",
       "      <th>646</th>\n",
       "      <td>ikan mas,gurami</td>\n",
       "      <td>1</td>\n",
       "    </tr>\n",
       "    <tr>\n",
       "      <th>647</th>\n",
       "      <td>ikan lele,nila</td>\n",
       "      <td>1-2</td>\n",
       "    </tr>\n",
       "    <tr>\n",
       "      <th>648</th>\n",
       "      <td>ikan mas, lele</td>\n",
       "      <td>1</td>\n",
       "    </tr>\n",
       "    <tr>\n",
       "      <th>649</th>\n",
       "      <td>ikan mas,nila merah,gurame,lele</td>\n",
       "      <td>5-5,5</td>\n",
       "    </tr>\n",
       "    <tr>\n",
       "      <th>650</th>\n",
       "      <td>ikan mas, lele, nila merah</td>\n",
       "      <td>2</td>\n",
       "    </tr>\n",
       "    <tr>\n",
       "      <th>651</th>\n",
       "      <td>ikan lele</td>\n",
       "      <td>2-3</td>\n",
       "    </tr>\n",
       "    <tr>\n",
       "      <th>652</th>\n",
       "      <td>ikan lele</td>\n",
       "      <td>2</td>\n",
       "    </tr>\n",
       "    <tr>\n",
       "      <th>653</th>\n",
       "      <td>ikan lele</td>\n",
       "      <td>2</td>\n",
       "    </tr>\n",
       "    <tr>\n",
       "      <th>654</th>\n",
       "      <td>ikan mas</td>\n",
       "      <td>1</td>\n",
       "    </tr>\n",
       "    <tr>\n",
       "      <th>655</th>\n",
       "      <td>ikan mas,lele</td>\n",
       "      <td>2-3</td>\n",
       "    </tr>\n",
       "    <tr>\n",
       "      <th>656</th>\n",
       "      <td>lele</td>\n",
       "      <td>9</td>\n",
       "    </tr>\n",
       "    <tr>\n",
       "      <th>657</th>\n",
       "      <td>tongkol, kakap, kembung</td>\n",
       "      <td>5, 4, 4</td>\n",
       "    </tr>\n",
       "    <tr>\n",
       "      <th>658</th>\n",
       "      <td>tongkol, mas, mujaer</td>\n",
       "      <td>5, 6, 4</td>\n",
       "    </tr>\n",
       "    <tr>\n",
       "      <th>659</th>\n",
       "      <td>lele</td>\n",
       "      <td>10</td>\n",
       "    </tr>\n",
       "    <tr>\n",
       "      <th>660</th>\n",
       "      <td>ikan mas,mujair</td>\n",
       "      <td>1,5-2</td>\n",
       "    </tr>\n",
       "    <tr>\n",
       "      <th>661</th>\n",
       "      <td>tongkol, nila</td>\n",
       "      <td>5, 6</td>\n",
       "    </tr>\n",
       "    <tr>\n",
       "      <th>662</th>\n",
       "      <td>tongkol</td>\n",
       "      <td>7</td>\n",
       "    </tr>\n",
       "    <tr>\n",
       "      <th>663</th>\n",
       "      <td>mas, mujaer</td>\n",
       "      <td>5,3</td>\n",
       "    </tr>\n",
       "    <tr>\n",
       "      <th>664</th>\n",
       "      <td>nila, tongkol</td>\n",
       "      <td>5, 7</td>\n",
       "    </tr>\n",
       "    <tr>\n",
       "      <th>665</th>\n",
       "      <td>lele</td>\n",
       "      <td>8</td>\n",
       "    </tr>\n",
       "    <tr>\n",
       "      <th>666</th>\n",
       "      <td>tongkol, lele</td>\n",
       "      <td>4,4</td>\n",
       "    </tr>\n",
       "    <tr>\n",
       "      <th>667</th>\n",
       "      <td>nila, kakap, mas</td>\n",
       "      <td>5,6,5</td>\n",
       "    </tr>\n",
       "    <tr>\n",
       "      <th>668</th>\n",
       "      <td>kembung, lele, mas</td>\n",
       "      <td>2 kg, 2 kg, 2 kg</td>\n",
       "    </tr>\n",
       "    <tr>\n",
       "      <th>669</th>\n",
       "      <td>tongkol, nila, mas, lele</td>\n",
       "      <td>2 kg, 2 kg, 2 kg, 2 kg</td>\n",
       "    </tr>\n",
       "    <tr>\n",
       "      <th>670</th>\n",
       "      <td>kembung, nila, mas, lele</td>\n",
       "      <td>3 kg, 3kg, 3kg, 3kg</td>\n",
       "    </tr>\n",
       "    <tr>\n",
       "      <th>671</th>\n",
       "      <td>lele, nila, kembung, mas</td>\n",
       "      <td>3 kg, 3 kg, 3kg, 3kg</td>\n",
       "    </tr>\n",
       "    <tr>\n",
       "      <th>672</th>\n",
       "      <td>mas, lele</td>\n",
       "      <td>2 kg, 2 kg</td>\n",
       "    </tr>\n",
       "    <tr>\n",
       "      <th>673</th>\n",
       "      <td>kembung, lele, kakap</td>\n",
       "      <td>3 kg, 3 kg, 2 kg</td>\n",
       "    </tr>\n",
       "    <tr>\n",
       "      <th>674</th>\n",
       "      <td>lele, nila, kembung</td>\n",
       "      <td>3 kg, 3 kg, 3kg</td>\n",
       "    </tr>\n",
       "    <tr>\n",
       "      <th>675</th>\n",
       "      <td>kembung, nila, lele</td>\n",
       "      <td>3 kg, 3 kg, 3 kg</td>\n",
       "    </tr>\n",
       "    <tr>\n",
       "      <th>676</th>\n",
       "      <td>lele, nila, mas, kembung, tongkol</td>\n",
       "      <td>2 kg, 2 kg, 2 kg, 2kg, 3 kg</td>\n",
       "    </tr>\n",
       "    <tr>\n",
       "      <th>677</th>\n",
       "      <td>tongkol, nila</td>\n",
       "      <td>2 kg ,2 kg</td>\n",
       "    </tr>\n",
       "    <tr>\n",
       "      <th>678</th>\n",
       "      <td>nila, tongkol</td>\n",
       "      <td>3 kg, 3 kg</td>\n",
       "    </tr>\n",
       "    <tr>\n",
       "      <th>679</th>\n",
       "      <td>lele, tongkol, nila</td>\n",
       "      <td>2 kg, 2 kg, 2 kg</td>\n",
       "    </tr>\n",
       "    <tr>\n",
       "      <th>680</th>\n",
       "      <td>nila, tongkol, kakap</td>\n",
       "      <td>2 kg, 2 kg, 1 kg</td>\n",
       "    </tr>\n",
       "    <tr>\n",
       "      <th>681</th>\n",
       "      <td>kakap, lele, kembung, nila</td>\n",
       "      <td>2 kg, 3 kg, 3 kg, 2 kg</td>\n",
       "    </tr>\n",
       "    <tr>\n",
       "      <th>682</th>\n",
       "      <td>kakap, nila, kembung, tongkol</td>\n",
       "      <td>2 kg, 3  kg, 3 kg, 3 kg</td>\n",
       "    </tr>\n",
       "    <tr>\n",
       "      <th>683</th>\n",
       "      <td>lele, nila</td>\n",
       "      <td>3 kg, 3 kg</td>\n",
       "    </tr>\n",
       "    <tr>\n",
       "      <th>684</th>\n",
       "      <td>lele, kembung, nila</td>\n",
       "      <td>3 kg, 3 kg, 3 kg</td>\n",
       "    </tr>\n",
       "    <tr>\n",
       "      <th>685</th>\n",
       "      <td>tongkol, kembung</td>\n",
       "      <td>3 kg, 3 kg</td>\n",
       "    </tr>\n",
       "    <tr>\n",
       "      <th>686</th>\n",
       "      <td>gurame, nila, mas</td>\n",
       "      <td>5 kg, 6 kg, 6 kg</td>\n",
       "    </tr>\n",
       "    <tr>\n",
       "      <th>687</th>\n",
       "      <td>lele, kembung, kakap</td>\n",
       "      <td>3 kg, 3 kg, 2 kg</td>\n",
       "    </tr>\n",
       "    <tr>\n",
       "      <th>688</th>\n",
       "      <td>ikan mas,lele</td>\n",
       "      <td>2-3</td>\n",
       "    </tr>\n",
       "    <tr>\n",
       "      <th>689</th>\n",
       "      <td>ikan lele, mas, nila merah</td>\n",
       "      <td>2</td>\n",
       "    </tr>\n",
       "    <tr>\n",
       "      <th>690</th>\n",
       "      <td>ikan mas,lele,bawal</td>\n",
       "      <td>1-2</td>\n",
       "    </tr>\n",
       "    <tr>\n",
       "      <th>691</th>\n",
       "      <td>ikan mas,mujair</td>\n",
       "      <td>1,5 kg</td>\n",
       "    </tr>\n",
       "    <tr>\n",
       "      <th>692</th>\n",
       "      <td>ikan mas,nila</td>\n",
       "      <td>masing-masing 1 kg</td>\n",
       "    </tr>\n",
       "    <tr>\n",
       "      <th>693</th>\n",
       "      <td>ikan mas,lele</td>\n",
       "      <td>1/2</td>\n",
       "    </tr>\n",
       "    <tr>\n",
       "      <th>694</th>\n",
       "      <td>ikan mas,bawal,lele</td>\n",
       "      <td>3</td>\n",
       "    </tr>\n",
       "    <tr>\n",
       "      <th>695</th>\n",
       "      <td>ikan mas,lele</td>\n",
       "      <td>1kg</td>\n",
       "    </tr>\n",
       "    <tr>\n",
       "      <th>696</th>\n",
       "      <td>ikan mas, nila merah,gurame</td>\n",
       "      <td>1-2</td>\n",
       "    </tr>\n",
       "    <tr>\n",
       "      <th>697</th>\n",
       "      <td>ikan mas,lele,nila,bawal</td>\n",
       "      <td>5</td>\n",
       "    </tr>\n",
       "    <tr>\n",
       "      <th>698</th>\n",
       "      <td>ikan lele</td>\n",
       "      <td>3 kg</td>\n",
       "    </tr>\n",
       "    <tr>\n",
       "      <th>699</th>\n",
       "      <td>ikan mas,lele</td>\n",
       "      <td>1-1,5</td>\n",
       "    </tr>\n",
       "    <tr>\n",
       "      <th>700</th>\n",
       "      <td>ikan lele</td>\n",
       "      <td>2-3</td>\n",
       "    </tr>\n",
       "    <tr>\n",
       "      <th>701</th>\n",
       "      <td>ikan mas, lele, mujair</td>\n",
       "      <td>1 1/2</td>\n",
       "    </tr>\n",
       "    <tr>\n",
       "      <th>702</th>\n",
       "      <td>ikan lele</td>\n",
       "      <td>3</td>\n",
       "    </tr>\n",
       "    <tr>\n",
       "      <th>703</th>\n",
       "      <td>ikan mas, lele</td>\n",
       "      <td>1 1/2</td>\n",
       "    </tr>\n",
       "    <tr>\n",
       "      <th>704</th>\n",
       "      <td>kakap, kembung</td>\n",
       "      <td>5, 5</td>\n",
       "    </tr>\n",
       "    <tr>\n",
       "      <th>705</th>\n",
       "      <td>kembung, bawal</td>\n",
       "      <td>4, 6</td>\n",
       "    </tr>\n",
       "    <tr>\n",
       "      <th>706</th>\n",
       "      <td>bawal, nila, kakap</td>\n",
       "      <td>5,4,4</td>\n",
       "    </tr>\n",
       "    <tr>\n",
       "      <th>707</th>\n",
       "      <td>lele</td>\n",
       "      <td>10</td>\n",
       "    </tr>\n",
       "    <tr>\n",
       "      <th>708</th>\n",
       "      <td>kakap, kembung</td>\n",
       "      <td>6, 3</td>\n",
       "    </tr>\n",
       "    <tr>\n",
       "      <th>709</th>\n",
       "      <td>tongkol, mas</td>\n",
       "      <td>5,6</td>\n",
       "    </tr>\n",
       "    <tr>\n",
       "      <th>710</th>\n",
       "      <td>lele</td>\n",
       "      <td>9</td>\n",
       "    </tr>\n",
       "    <tr>\n",
       "      <th>711</th>\n",
       "      <td>mas, lele</td>\n",
       "      <td>5, 6</td>\n",
       "    </tr>\n",
       "    <tr>\n",
       "      <th>712</th>\n",
       "      <td>lele</td>\n",
       "      <td>10</td>\n",
       "    </tr>\n",
       "    <tr>\n",
       "      <th>713</th>\n",
       "      <td>lele</td>\n",
       "      <td>9</td>\n",
       "    </tr>\n",
       "    <tr>\n",
       "      <th>714</th>\n",
       "      <td>lele</td>\n",
       "      <td>7</td>\n",
       "    </tr>\n",
       "    <tr>\n",
       "      <th>715</th>\n",
       "      <td>nila, bawal, kakap</td>\n",
       "      <td>5,5,5</td>\n",
       "    </tr>\n",
       "    <tr>\n",
       "      <th>716</th>\n",
       "      <td>mas, mujaer</td>\n",
       "      <td>6, 4</td>\n",
       "    </tr>\n",
       "    <tr>\n",
       "      <th>717</th>\n",
       "      <td>mas, mujaer, tongkol</td>\n",
       "      <td>4, 3, 3</td>\n",
       "    </tr>\n",
       "    <tr>\n",
       "      <th>718</th>\n",
       "      <td>tongkol, mas</td>\n",
       "      <td>4, 4</td>\n",
       "    </tr>\n",
       "    <tr>\n",
       "      <th>719</th>\n",
       "      <td>tongkol, mujaer, mas, nila</td>\n",
       "      <td>2 kg, 2  kg, 2kg, 2 kg</td>\n",
       "    </tr>\n",
       "    <tr>\n",
       "      <th>720</th>\n",
       "      <td>tongkol, kembung, lele, kakap</td>\n",
       "      <td>2kg, 2kg, 2kg, 2kg</td>\n",
       "    </tr>\n",
       "    <tr>\n",
       "      <th>721</th>\n",
       "      <td>mas, tongkol, nila</td>\n",
       "      <td>2kg, 2kg, 1kg</td>\n",
       "    </tr>\n",
       "    <tr>\n",
       "      <th>722</th>\n",
       "      <td>tongkol, mas, lele, nila</td>\n",
       "      <td>2kg, 2kg, 2kg, 2kg,</td>\n",
       "    </tr>\n",
       "    <tr>\n",
       "      <th>723</th>\n",
       "      <td>mas, tongkol, lele, nila</td>\n",
       "      <td>2kg, 2kg, 2kg, 2kg</td>\n",
       "    </tr>\n",
       "    <tr>\n",
       "      <th>724</th>\n",
       "      <td>lele, kerapu, kakap, gurame</td>\n",
       "      <td>3kg, 3kg, 3kg, 3kg</td>\n",
       "    </tr>\n",
       "    <tr>\n",
       "      <th>725</th>\n",
       "      <td>kakap, lele, tongkol, kembung</td>\n",
       "      <td>2kg, 2kg, 2kg, 3kg</td>\n",
       "    </tr>\n",
       "    <tr>\n",
       "      <th>726</th>\n",
       "      <td>mas, tongkol, kembung,</td>\n",
       "      <td>2kg, 2kg, 2kg,</td>\n",
       "    </tr>\n",
       "    <tr>\n",
       "      <th>727</th>\n",
       "      <td>kakap, kembung, tongkol, lele, mujaer</td>\n",
       "      <td>2kg, 3kg, 3kg, 2kg, 2kg</td>\n",
       "    </tr>\n",
       "    <tr>\n",
       "      <th>728</th>\n",
       "      <td>mas, tongkol, mujaer, lele, nila</td>\n",
       "      <td>2kg, 2kg, 2kg, 2kg, 2kg,</td>\n",
       "    </tr>\n",
       "    <tr>\n",
       "      <th>729</th>\n",
       "      <td>tongkol, kembung, lele</td>\n",
       "      <td>3kg, 3kg, 2kg</td>\n",
       "    </tr>\n",
       "    <tr>\n",
       "      <th>730</th>\n",
       "      <td>mas, nila, lele, tongkol,</td>\n",
       "      <td>2kg, 2kg, 2kg, 2kg</td>\n",
       "    </tr>\n",
       "    <tr>\n",
       "      <th>731</th>\n",
       "      <td>mas, tongkol, nila</td>\n",
       "      <td>2kg, 2kg, 2kg</td>\n",
       "    </tr>\n",
       "    <tr>\n",
       "      <th>732</th>\n",
       "      <td>lele, mas, mujaer, tongkol</td>\n",
       "      <td>2kg, 2kg, 2kg, 2kg,</td>\n",
       "    </tr>\n",
       "    <tr>\n",
       "      <th>733</th>\n",
       "      <td>lele</td>\n",
       "      <td>5kg</td>\n",
       "    </tr>\n",
       "    <tr>\n",
       "      <th>734</th>\n",
       "      <td>kembung, tongkol, lele, kakap</td>\n",
       "      <td>3kg, 3kg, 2kg, 2kg</td>\n",
       "    </tr>\n",
       "    <tr>\n",
       "      <th>735</th>\n",
       "      <td>tongkol, kembung, lele, kakap, nila</td>\n",
       "      <td>3kg, 3kg, 2kg, 2kg, 2kg</td>\n",
       "    </tr>\n",
       "    <tr>\n",
       "      <th>736</th>\n",
       "      <td>mas, mujaer</td>\n",
       "      <td>5,4</td>\n",
       "    </tr>\n",
       "    <tr>\n",
       "      <th>737</th>\n",
       "      <td>lele, nila</td>\n",
       "      <td>6,3</td>\n",
       "    </tr>\n",
       "    <tr>\n",
       "      <th>738</th>\n",
       "      <td>tongkol, kakap, nila</td>\n",
       "      <td>5,4,4</td>\n",
       "    </tr>\n",
       "    <tr>\n",
       "      <th>739</th>\n",
       "      <td>nila, bawal, lele</td>\n",
       "      <td>6, 5, 5</td>\n",
       "    </tr>\n",
       "    <tr>\n",
       "      <th>740</th>\n",
       "      <td>kakap, kembung</td>\n",
       "      <td>6, 3</td>\n",
       "    </tr>\n",
       "    <tr>\n",
       "      <th>741</th>\n",
       "      <td>tongkol, nila</td>\n",
       "      <td>5, 6</td>\n",
       "    </tr>\n",
       "    <tr>\n",
       "      <th>742</th>\n",
       "      <td>mas, mujaer, tongkol</td>\n",
       "      <td>4, 5, 5</td>\n",
       "    </tr>\n",
       "    <tr>\n",
       "      <th>743</th>\n",
       "      <td>lele</td>\n",
       "      <td>10</td>\n",
       "    </tr>\n",
       "    <tr>\n",
       "      <th>744</th>\n",
       "      <td>mas</td>\n",
       "      <td>6</td>\n",
       "    </tr>\n",
       "    <tr>\n",
       "      <th>745</th>\n",
       "      <td>mas, mujaer, nila</td>\n",
       "      <td>6, 4, 4</td>\n",
       "    </tr>\n",
       "    <tr>\n",
       "      <th>746</th>\n",
       "      <td>mas, nila, kakap</td>\n",
       "      <td>5, 4, 4</td>\n",
       "    </tr>\n",
       "    <tr>\n",
       "      <th>747</th>\n",
       "      <td>mas, mujaer</td>\n",
       "      <td>6, 5</td>\n",
       "    </tr>\n",
       "    <tr>\n",
       "      <th>748</th>\n",
       "      <td>nila, lele</td>\n",
       "      <td>5, t</td>\n",
       "    </tr>\n",
       "    <tr>\n",
       "      <th>749</th>\n",
       "      <td>mas, mujaer, tongkol</td>\n",
       "      <td>5,4,4</td>\n",
       "    </tr>\n",
       "    <tr>\n",
       "      <th>750</th>\n",
       "      <td>mas, nila, kakap</td>\n",
       "      <td>5, 5, 4</td>\n",
       "    </tr>\n",
       "    <tr>\n",
       "      <th>751</th>\n",
       "      <td>tongkol, mas, lele</td>\n",
       "      <td>6, 4, 4</td>\n",
       "    </tr>\n",
       "    <tr>\n",
       "      <th>752</th>\n",
       "      <td>mas, mujaer</td>\n",
       "      <td>4,4</td>\n",
       "    </tr>\n",
       "    <tr>\n",
       "      <th>753</th>\n",
       "      <td>tongkol, nila</td>\n",
       "      <td>5,5</td>\n",
       "    </tr>\n",
       "    <tr>\n",
       "      <th>754</th>\n",
       "      <td>nila, kakap</td>\n",
       "      <td>5, 4</td>\n",
       "    </tr>\n",
       "    <tr>\n",
       "      <th>755</th>\n",
       "      <td>mas, lele, tongkol</td>\n",
       "      <td>5kg, 5kg, 5kg</td>\n",
       "    </tr>\n",
       "    <tr>\n",
       "      <th>756</th>\n",
       "      <td>tongkol, lele nila</td>\n",
       "      <td>6kg, 5kg, 5kg</td>\n",
       "    </tr>\n",
       "    <tr>\n",
       "      <th>757</th>\n",
       "      <td>mas, lele</td>\n",
       "      <td>6kg, 6kg</td>\n",
       "    </tr>\n",
       "    <tr>\n",
       "      <th>758</th>\n",
       "      <td>tongkol, lele</td>\n",
       "      <td>5kg, 7kg</td>\n",
       "    </tr>\n",
       "    <tr>\n",
       "      <th>759</th>\n",
       "      <td>lele</td>\n",
       "      <td>8kg</td>\n",
       "    </tr>\n",
       "    <tr>\n",
       "      <th>760</th>\n",
       "      <td>tongkol, lele, nila</td>\n",
       "      <td>7kg, 7kg, 5kg</td>\n",
       "    </tr>\n",
       "    <tr>\n",
       "      <th>761</th>\n",
       "      <td>lele</td>\n",
       "      <td>10 kg</td>\n",
       "    </tr>\n",
       "    <tr>\n",
       "      <th>762</th>\n",
       "      <td>tongkol, lele</td>\n",
       "      <td>6kg, 6kg</td>\n",
       "    </tr>\n",
       "    <tr>\n",
       "      <th>763</th>\n",
       "      <td>lele, tongkol, nila</td>\n",
       "      <td>7kg, 5kg, 5kg</td>\n",
       "    </tr>\n",
       "    <tr>\n",
       "      <th>764</th>\n",
       "      <td>lele, tongkol</td>\n",
       "      <td>6kg, 6kg</td>\n",
       "    </tr>\n",
       "    <tr>\n",
       "      <th>765</th>\n",
       "      <td>tongkol, lele, nila, mas</td>\n",
       "      <td>5kg, 6kg, 4kg, 6kg</td>\n",
       "    </tr>\n",
       "    <tr>\n",
       "      <th>766</th>\n",
       "      <td>tongkol, lele</td>\n",
       "      <td>4kg, 5kg</td>\n",
       "    </tr>\n",
       "    <tr>\n",
       "      <th>767</th>\n",
       "      <td>mas, lele, nila</td>\n",
       "      <td>5kg, 5kg, 4kg</td>\n",
       "    </tr>\n",
       "    <tr>\n",
       "      <th>768</th>\n",
       "      <td>bawal, kakap, mas</td>\n",
       "      <td>5kg, 5kg, 5kg</td>\n",
       "    </tr>\n",
       "    <tr>\n",
       "      <th>769</th>\n",
       "      <td>tongkol, lele, nila</td>\n",
       "      <td>6kg, 6kg, 4kg</td>\n",
       "    </tr>\n",
       "    <tr>\n",
       "      <th>770</th>\n",
       "      <td>mas, lele, nila</td>\n",
       "      <td>7kg, 7kg, 5kg</td>\n",
       "    </tr>\n",
       "    <tr>\n",
       "      <th>771</th>\n",
       "      <td>tongkol, lele</td>\n",
       "      <td>5kg, 7kg</td>\n",
       "    </tr>\n",
       "    <tr>\n",
       "      <th>772</th>\n",
       "      <td>lele</td>\n",
       "      <td>10 kg</td>\n",
       "    </tr>\n",
       "    <tr>\n",
       "      <th>773</th>\n",
       "      <td>tongkol, lele, nila</td>\n",
       "      <td>7kg, 7kg, 5kg</td>\n",
       "    </tr>\n",
       "    <tr>\n",
       "      <th>774</th>\n",
       "      <td>mujair, nila, bawal, mas</td>\n",
       "      <td>6kg, 5kg, 5kg, 7kg</td>\n",
       "    </tr>\n",
       "    <tr>\n",
       "      <th>775</th>\n",
       "      <td>tongkol, lele</td>\n",
       "      <td>7kg, 6kg</td>\n",
       "    </tr>\n",
       "    <tr>\n",
       "      <th>776</th>\n",
       "      <td>tongkol, lele, nila</td>\n",
       "      <td>6kg, 6kg, 5kg</td>\n",
       "    </tr>\n",
       "    <tr>\n",
       "      <th>777</th>\n",
       "      <td>mas, tongkol</td>\n",
       "      <td>6kg, 5kg</td>\n",
       "    </tr>\n",
       "    <tr>\n",
       "      <th>778</th>\n",
       "      <td>tongkol, lele</td>\n",
       "      <td>5kg, 5kg</td>\n",
       "    </tr>\n",
       "    <tr>\n",
       "      <th>779</th>\n",
       "      <td>lele, tongkol, nila</td>\n",
       "      <td>7kg, 7kg, 6kg</td>\n",
       "    </tr>\n",
       "    <tr>\n",
       "      <th>780</th>\n",
       "      <td>tongkol, lele, nila</td>\n",
       "      <td>6kg, 5kg, 5kg</td>\n",
       "    </tr>\n",
       "    <tr>\n",
       "      <th>781</th>\n",
       "      <td>ikan mas,lele,bawal</td>\n",
       "      <td>2,5</td>\n",
       "    </tr>\n",
       "    <tr>\n",
       "      <th>782</th>\n",
       "      <td>ikan mas,mujair</td>\n",
       "      <td>1-1/2</td>\n",
       "    </tr>\n",
       "    <tr>\n",
       "      <th>783</th>\n",
       "      <td>ikan mas,lele,bawal,gurame,kerapu</td>\n",
       "      <td>5-6</td>\n",
       "    </tr>\n",
       "    <tr>\n",
       "      <th>784</th>\n",
       "      <td>ikan lele,nila,ikan laut</td>\n",
       "      <td>2-3</td>\n",
       "    </tr>\n",
       "    <tr>\n",
       "      <th>785</th>\n",
       "      <td>ikan laut</td>\n",
       "      <td>3-3,5</td>\n",
       "    </tr>\n",
       "    <tr>\n",
       "      <th>786</th>\n",
       "      <td>ikan mas, lele, nila merah</td>\n",
       "      <td>3 kg</td>\n",
       "    </tr>\n",
       "    <tr>\n",
       "      <th>787</th>\n",
       "      <td>ikan mas, mujair</td>\n",
       "      <td>1-2</td>\n",
       "    </tr>\n",
       "    <tr>\n",
       "      <th>788</th>\n",
       "      <td>ikan lele</td>\n",
       "      <td>2-3</td>\n",
       "    </tr>\n",
       "    <tr>\n",
       "      <th>789</th>\n",
       "      <td>ikn mas,mujair</td>\n",
       "      <td>1-1,5</td>\n",
       "    </tr>\n",
       "    <tr>\n",
       "      <th>790</th>\n",
       "      <td>ikan mas,impun</td>\n",
       "      <td>1/2 kg</td>\n",
       "    </tr>\n",
       "    <tr>\n",
       "      <th>791</th>\n",
       "      <td>ikan mas,bawal,salem,bandeng</td>\n",
       "      <td>5</td>\n",
       "    </tr>\n",
       "    <tr>\n",
       "      <th>792</th>\n",
       "      <td>ikan mas,bawal</td>\n",
       "      <td>2</td>\n",
       "    </tr>\n",
       "    <tr>\n",
       "      <th>793</th>\n",
       "      <td>ikan lele</td>\n",
       "      <td>3</td>\n",
       "    </tr>\n",
       "    <tr>\n",
       "      <th>794</th>\n",
       "      <td>ikan mas, lele, nila</td>\n",
       "      <td>2-3 kg</td>\n",
       "    </tr>\n",
       "    <tr>\n",
       "      <th>795</th>\n",
       "      <td>ikan mas dan bawal</td>\n",
       "      <td>1 kg masing masing</td>\n",
       "    </tr>\n",
       "    <tr>\n",
       "      <th>796</th>\n",
       "      <td>ikan  mas, lele, bawal, salem</td>\n",
       "      <td>3</td>\n",
       "    </tr>\n",
       "    <tr>\n",
       "      <th>797</th>\n",
       "      <td>ikan lele</td>\n",
       "      <td>2-3</td>\n",
       "    </tr>\n",
       "    <tr>\n",
       "      <th>798</th>\n",
       "      <td>ikan laut</td>\n",
       "      <td>5</td>\n",
       "    </tr>\n",
       "    <tr>\n",
       "      <th>799</th>\n",
       "      <td>ikan mas, lele, bawal</td>\n",
       "      <td>2-3</td>\n",
       "    </tr>\n",
       "  </tbody>\n",
       "</table>\n",
       "</div>"
      ],
      "text/plain": [
       "                                             komoditas  \\\n",
       "600  gurame, nila, patin, mas, lele, kakap, pari, b...   \n",
       "601                      tongkol, kakap, kembung, nila   \n",
       "602                           gurame, nila, patin, mas   \n",
       "603                                 gurame, kakap, mas   \n",
       "604                                          ikan lele   \n",
       "605                                     ikan mas, lele   \n",
       "606                                          ikan lele   \n",
       "607                                ikan mas,bawal,lele   \n",
       "608                               ikan mas,gurame,lele   \n",
       "609                                          ikan lele   \n",
       "610                              ikan mas, lele, bawal   \n",
       "611                                     ikan mas, lele   \n",
       "612                                          ikan lele   \n",
       "613                                     ikan mas, lele   \n",
       "614                                          ikan laut   \n",
       "615                                          ikan lele   \n",
       "616                              ikan mas, lele, bawal   \n",
       "617                                           ikan mas   \n",
       "618                             ikan mas, lele, gurame   \n",
       "619                                          ikan lele   \n",
       "620                                          ikan lele   \n",
       "621                      kembung, tongkol, lele, kakap   \n",
       "622                             tongkol, kembung, lele   \n",
       "623                            mas, nila, mujaer, lele   \n",
       "624                           mas, nila, tongkol, lele   \n",
       "625                                 tongkol, mas, lele   \n",
       "626                                tongkol, mas, lele,   \n",
       "627                               lele, tongkol, nila,   \n",
       "628                                    mas, lele, nila   \n",
       "629                                 tongkol, nila, mas   \n",
       "630                       kembung, tongkol, lele, nila   \n",
       "631                                 gurame, nila, lele   \n",
       "632                                tongkol, nila, lele   \n",
       "633                                kembung, nila, lele   \n",
       "634               nila, lele, gurame, kerapu, cakalang   \n",
       "635                                kembung, lele, nila   \n",
       "636                                kembung, nila, lele   \n",
       "637                                lele, nila, kembung   \n",
       "638                                      ikan mas,nila   \n",
       "639                                     ikan mas, lele   \n",
       "640                               ikan mas, nila merah   \n",
       "641                               kakap, tongkol, nila   \n",
       "642                                bawal, nila, kakap,   \n",
       "643                                      nila, tongkol   \n",
       "644                                     tongkol, kakap   \n",
       "645                         ikan mas, nila merah, lele   \n",
       "646                                    ikan mas,gurami   \n",
       "647                                     ikan lele,nila   \n",
       "648                                     ikan mas, lele   \n",
       "649                    ikan mas,nila merah,gurame,lele   \n",
       "650                         ikan mas, lele, nila merah   \n",
       "651                                          ikan lele   \n",
       "652                                          ikan lele   \n",
       "653                                          ikan lele   \n",
       "654                                           ikan mas   \n",
       "655                                      ikan mas,lele   \n",
       "656                                               lele   \n",
       "657                            tongkol, kakap, kembung   \n",
       "658                               tongkol, mas, mujaer   \n",
       "659                                               lele   \n",
       "660                                    ikan mas,mujair   \n",
       "661                                      tongkol, nila   \n",
       "662                                            tongkol   \n",
       "663                                        mas, mujaer   \n",
       "664                                      nila, tongkol   \n",
       "665                                               lele   \n",
       "666                                      tongkol, lele   \n",
       "667                                   nila, kakap, mas   \n",
       "668                                 kembung, lele, mas   \n",
       "669                           tongkol, nila, mas, lele   \n",
       "670                           kembung, nila, mas, lele   \n",
       "671                           lele, nila, kembung, mas   \n",
       "672                                          mas, lele   \n",
       "673                               kembung, lele, kakap   \n",
       "674                                lele, nila, kembung   \n",
       "675                                kembung, nila, lele   \n",
       "676                  lele, nila, mas, kembung, tongkol   \n",
       "677                                      tongkol, nila   \n",
       "678                                      nila, tongkol   \n",
       "679                                lele, tongkol, nila   \n",
       "680                               nila, tongkol, kakap   \n",
       "681                         kakap, lele, kembung, nila   \n",
       "682                      kakap, nila, kembung, tongkol   \n",
       "683                                         lele, nila   \n",
       "684                                lele, kembung, nila   \n",
       "685                                   tongkol, kembung   \n",
       "686                                  gurame, nila, mas   \n",
       "687                               lele, kembung, kakap   \n",
       "688                                      ikan mas,lele   \n",
       "689                         ikan lele, mas, nila merah   \n",
       "690                                ikan mas,lele,bawal   \n",
       "691                                    ikan mas,mujair   \n",
       "692                                     ikan mas,nila    \n",
       "693                                      ikan mas,lele   \n",
       "694                                ikan mas,bawal,lele   \n",
       "695                                      ikan mas,lele   \n",
       "696                        ikan mas, nila merah,gurame   \n",
       "697                           ikan mas,lele,nila,bawal   \n",
       "698                                          ikan lele   \n",
       "699                                      ikan mas,lele   \n",
       "700                                          ikan lele   \n",
       "701                             ikan mas, lele, mujair   \n",
       "702                                          ikan lele   \n",
       "703                                     ikan mas, lele   \n",
       "704                                     kakap, kembung   \n",
       "705                                     kembung, bawal   \n",
       "706                                 bawal, nila, kakap   \n",
       "707                                               lele   \n",
       "708                                     kakap, kembung   \n",
       "709                                       tongkol, mas   \n",
       "710                                               lele   \n",
       "711                                          mas, lele   \n",
       "712                                               lele   \n",
       "713                                               lele   \n",
       "714                                               lele   \n",
       "715                                 nila, bawal, kakap   \n",
       "716                                        mas, mujaer   \n",
       "717                               mas, mujaer, tongkol   \n",
       "718                                       tongkol, mas   \n",
       "719                         tongkol, mujaer, mas, nila   \n",
       "720                      tongkol, kembung, lele, kakap   \n",
       "721                                 mas, tongkol, nila   \n",
       "722                           tongkol, mas, lele, nila   \n",
       "723                           mas, tongkol, lele, nila   \n",
       "724                        lele, kerapu, kakap, gurame   \n",
       "725                      kakap, lele, tongkol, kembung   \n",
       "726                            mas, tongkol, kembung,    \n",
       "727              kakap, kembung, tongkol, lele, mujaer   \n",
       "728                   mas, tongkol, mujaer, lele, nila   \n",
       "729                             tongkol, kembung, lele   \n",
       "730                         mas, nila, lele, tongkol,    \n",
       "731                                 mas, tongkol, nila   \n",
       "732                         lele, mas, mujaer, tongkol   \n",
       "733                                               lele   \n",
       "734                      kembung, tongkol, lele, kakap   \n",
       "735                tongkol, kembung, lele, kakap, nila   \n",
       "736                                        mas, mujaer   \n",
       "737                                         lele, nila   \n",
       "738                               tongkol, kakap, nila   \n",
       "739                                  nila, bawal, lele   \n",
       "740                                     kakap, kembung   \n",
       "741                                      tongkol, nila   \n",
       "742                               mas, mujaer, tongkol   \n",
       "743                                               lele   \n",
       "744                                                mas   \n",
       "745                                  mas, mujaer, nila   \n",
       "746                                   mas, nila, kakap   \n",
       "747                                        mas, mujaer   \n",
       "748                                         nila, lele   \n",
       "749                               mas, mujaer, tongkol   \n",
       "750                                   mas, nila, kakap   \n",
       "751                                 tongkol, mas, lele   \n",
       "752                                        mas, mujaer   \n",
       "753                                      tongkol, nila   \n",
       "754                                        nila, kakap   \n",
       "755                                 mas, lele, tongkol   \n",
       "756                                 tongkol, lele nila   \n",
       "757                                          mas, lele   \n",
       "758                                      tongkol, lele   \n",
       "759                                               lele   \n",
       "760                                tongkol, lele, nila   \n",
       "761                                               lele   \n",
       "762                                      tongkol, lele   \n",
       "763                                lele, tongkol, nila   \n",
       "764                                      lele, tongkol   \n",
       "765                           tongkol, lele, nila, mas   \n",
       "766                                      tongkol, lele   \n",
       "767                                    mas, lele, nila   \n",
       "768                                  bawal, kakap, mas   \n",
       "769                                tongkol, lele, nila   \n",
       "770                                    mas, lele, nila   \n",
       "771                                      tongkol, lele   \n",
       "772                                               lele   \n",
       "773                                tongkol, lele, nila   \n",
       "774                           mujair, nila, bawal, mas   \n",
       "775                                      tongkol, lele   \n",
       "776                                tongkol, lele, nila   \n",
       "777                                       mas, tongkol   \n",
       "778                                      tongkol, lele   \n",
       "779                                lele, tongkol, nila   \n",
       "780                                tongkol, lele, nila   \n",
       "781                                ikan mas,lele,bawal   \n",
       "782                                    ikan mas,mujair   \n",
       "783                  ikan mas,lele,bawal,gurame,kerapu   \n",
       "784                           ikan lele,nila,ikan laut   \n",
       "785                                          ikan laut   \n",
       "786                         ikan mas, lele, nila merah   \n",
       "787                                   ikan mas, mujair   \n",
       "788                                          ikan lele   \n",
       "789                                     ikn mas,mujair   \n",
       "790                                     ikan mas,impun   \n",
       "791                       ikan mas,bawal,salem,bandeng   \n",
       "792                                     ikan mas,bawal   \n",
       "793                                          ikan lele   \n",
       "794                               ikan mas, lele, nila   \n",
       "795                                 ikan mas dan bawal   \n",
       "796                      ikan  mas, lele, bawal, salem   \n",
       "797                                          ikan lele   \n",
       "798                                          ikan laut   \n",
       "799                              ikan mas, lele, bawal   \n",
       "\n",
       "                                           berat  \n",
       "600  5kg, 6kg, 6kg, 8kg, 8kg, 5kg, 3kg, 3kg, 5kg  \n",
       "601                           7kg, 7kg, 7kg, 7kg  \n",
       "602                          6kg, 5kg, 5kg, 10kg  \n",
       "603                                8kg, 5kg, 5kg  \n",
       "604                                            4  \n",
       "605                                            3  \n",
       "606                                            5  \n",
       "607                                            5  \n",
       "608                                            5  \n",
       "609                                            5  \n",
       "610                                            5  \n",
       "611                                            5  \n",
       "612                                            5  \n",
       "613                                            5  \n",
       "614                                           5   \n",
       "615                                            3  \n",
       "616                                            5  \n",
       "617                                            5  \n",
       "618                                            6  \n",
       "619                                            4  \n",
       "620                                            5  \n",
       "621                          2kg, 2kg, 2kg, 2kg,  \n",
       "622                                3kg, 3kg, 3kg  \n",
       "623                           2kg, 2kg, 2kg, 2kg  \n",
       "624                           2kg, 2kg, 3kg, 2kg  \n",
       "625                                2kg, 2kg, 2kg  \n",
       "626                                2kg, 2kg, 2kg  \n",
       "627                                2kg, 2kg, 2kg  \n",
       "628                                1kg, 2kg, 2kg  \n",
       "629                              2 kg, 2 kg, 2kg  \n",
       "630                      3 kg, 2 kg, 3 kg , 3 kg  \n",
       "631                               2kg, 3 kg, 3kg  \n",
       "632                             2 kg, 2 kg, 2 kg  \n",
       "633                             2 kg, 2 kg, 3 kg  \n",
       "634                   3 kg, 3 kg, 3kg, 3kg, 3 kg  \n",
       "635                             3kg , 3 kg, 3 kg  \n",
       "636                            3 kg , 3 kg, 3 kg  \n",
       "637                            3 kg, 3 kg , 3 kg  \n",
       "638                                         1-2   \n",
       "639                                 rata-rata 2   \n",
       "640                                            1  \n",
       "641                                      4, 5, 5  \n",
       "642                                      6, 5, 6  \n",
       "643                                         5, 6  \n",
       "644                                         6, 4  \n",
       "645                                          2-4  \n",
       "646                                            1  \n",
       "647                                          1-2  \n",
       "648                                            1  \n",
       "649                                        5-5,5  \n",
       "650                                            2  \n",
       "651                                          2-3  \n",
       "652                                            2  \n",
       "653                                            2  \n",
       "654                                            1  \n",
       "655                                          2-3  \n",
       "656                                            9  \n",
       "657                                      5, 4, 4  \n",
       "658                                      5, 6, 4  \n",
       "659                                           10  \n",
       "660                                        1,5-2  \n",
       "661                                         5, 6  \n",
       "662                                            7  \n",
       "663                                          5,3  \n",
       "664                                         5, 7  \n",
       "665                                            8  \n",
       "666                                          4,4  \n",
       "667                                        5,6,5  \n",
       "668                             2 kg, 2 kg, 2 kg  \n",
       "669                       2 kg, 2 kg, 2 kg, 2 kg  \n",
       "670                          3 kg, 3kg, 3kg, 3kg  \n",
       "671                        3 kg, 3 kg, 3kg, 3kg   \n",
       "672                                   2 kg, 2 kg  \n",
       "673                             3 kg, 3 kg, 2 kg  \n",
       "674                              3 kg, 3 kg, 3kg  \n",
       "675                             3 kg, 3 kg, 3 kg  \n",
       "676                  2 kg, 2 kg, 2 kg, 2kg, 3 kg  \n",
       "677                                   2 kg ,2 kg  \n",
       "678                                   3 kg, 3 kg  \n",
       "679                             2 kg, 2 kg, 2 kg  \n",
       "680                             2 kg, 2 kg, 1 kg  \n",
       "681                       2 kg, 3 kg, 3 kg, 2 kg  \n",
       "682                      2 kg, 3  kg, 3 kg, 3 kg  \n",
       "683                                   3 kg, 3 kg  \n",
       "684                             3 kg, 3 kg, 3 kg  \n",
       "685                                   3 kg, 3 kg  \n",
       "686                             5 kg, 6 kg, 6 kg  \n",
       "687                             3 kg, 3 kg, 2 kg  \n",
       "688                                          2-3  \n",
       "689                                            2  \n",
       "690                                          1-2  \n",
       "691                                       1,5 kg  \n",
       "692                           masing-masing 1 kg  \n",
       "693                                         1/2   \n",
       "694                                            3  \n",
       "695                                          1kg  \n",
       "696                                          1-2  \n",
       "697                                            5  \n",
       "698                                         3 kg  \n",
       "699                                        1-1,5  \n",
       "700                                          2-3  \n",
       "701                                        1 1/2  \n",
       "702                                            3  \n",
       "703                                       1 1/2   \n",
       "704                                         5, 5  \n",
       "705                                         4, 6  \n",
       "706                                        5,4,4  \n",
       "707                                           10  \n",
       "708                                         6, 3  \n",
       "709                                          5,6  \n",
       "710                                            9  \n",
       "711                                         5, 6  \n",
       "712                                           10  \n",
       "713                                            9  \n",
       "714                                            7  \n",
       "715                                        5,5,5  \n",
       "716                                         6, 4  \n",
       "717                                      4, 3, 3  \n",
       "718                                         4, 4  \n",
       "719                       2 kg, 2  kg, 2kg, 2 kg  \n",
       "720                           2kg, 2kg, 2kg, 2kg  \n",
       "721                                2kg, 2kg, 1kg  \n",
       "722                         2kg, 2kg, 2kg, 2kg,   \n",
       "723                           2kg, 2kg, 2kg, 2kg  \n",
       "724                           3kg, 3kg, 3kg, 3kg  \n",
       "725                           2kg, 2kg, 2kg, 3kg  \n",
       "726                               2kg, 2kg, 2kg,  \n",
       "727                      2kg, 3kg, 3kg, 2kg, 2kg  \n",
       "728                    2kg, 2kg, 2kg, 2kg, 2kg,   \n",
       "729                                3kg, 3kg, 2kg  \n",
       "730                           2kg, 2kg, 2kg, 2kg  \n",
       "731                                2kg, 2kg, 2kg  \n",
       "732                          2kg, 2kg, 2kg, 2kg,  \n",
       "733                                          5kg  \n",
       "734                           3kg, 3kg, 2kg, 2kg  \n",
       "735                      3kg, 3kg, 2kg, 2kg, 2kg  \n",
       "736                                          5,4  \n",
       "737                                          6,3  \n",
       "738                                        5,4,4  \n",
       "739                                      6, 5, 5  \n",
       "740                                         6, 3  \n",
       "741                                         5, 6  \n",
       "742                                      4, 5, 5  \n",
       "743                                           10  \n",
       "744                                           6   \n",
       "745                                      6, 4, 4  \n",
       "746                                      5, 4, 4  \n",
       "747                                         6, 5  \n",
       "748                                         5, t  \n",
       "749                                        5,4,4  \n",
       "750                                      5, 5, 4  \n",
       "751                                      6, 4, 4  \n",
       "752                                          4,4  \n",
       "753                                          5,5  \n",
       "754                                         5, 4  \n",
       "755                                5kg, 5kg, 5kg  \n",
       "756                                6kg, 5kg, 5kg  \n",
       "757                                     6kg, 6kg  \n",
       "758                                     5kg, 7kg  \n",
       "759                                          8kg  \n",
       "760                                7kg, 7kg, 5kg  \n",
       "761                                        10 kg  \n",
       "762                                     6kg, 6kg  \n",
       "763                                7kg, 5kg, 5kg  \n",
       "764                                     6kg, 6kg  \n",
       "765                           5kg, 6kg, 4kg, 6kg  \n",
       "766                                     4kg, 5kg  \n",
       "767                                5kg, 5kg, 4kg  \n",
       "768                                5kg, 5kg, 5kg  \n",
       "769                                6kg, 6kg, 4kg  \n",
       "770                                7kg, 7kg, 5kg  \n",
       "771                                     5kg, 7kg  \n",
       "772                                        10 kg  \n",
       "773                                7kg, 7kg, 5kg  \n",
       "774                           6kg, 5kg, 5kg, 7kg  \n",
       "775                                     7kg, 6kg  \n",
       "776                                6kg, 6kg, 5kg  \n",
       "777                                     6kg, 5kg  \n",
       "778                                     5kg, 5kg  \n",
       "779                                7kg, 7kg, 6kg  \n",
       "780                                6kg, 5kg, 5kg  \n",
       "781                                          2,5  \n",
       "782                                       1-1/2   \n",
       "783                                          5-6  \n",
       "784                                          2-3  \n",
       "785                                        3-3,5  \n",
       "786                                         3 kg  \n",
       "787                                          1-2  \n",
       "788                                          2-3  \n",
       "789                                        1-1,5  \n",
       "790                                       1/2 kg  \n",
       "791                                            5  \n",
       "792                                            2  \n",
       "793                                            3  \n",
       "794                                       2-3 kg  \n",
       "795                           1 kg masing masing  \n",
       "796                                            3  \n",
       "797                                          2-3  \n",
       "798                                            5  \n",
       "799                                          2-3  "
      ]
     },
     "execution_count": 37,
     "metadata": {},
     "output_type": "execute_result"
    }
   ],
   "source": [
    "df_raw_json[600:800]"
   ]
  },
  {
   "cell_type": "code",
   "execution_count": 7,
   "id": "7c4483f5",
   "metadata": {},
   "outputs": [],
   "source": [
    "df_raw_json_2 = df_raw_json[\"berat\"].count()"
   ]
  },
  {
   "cell_type": "code",
   "execution_count": 8,
   "id": "78b14a9f",
   "metadata": {},
   "outputs": [
    {
     "data": {
      "text/plain": [
       "1054"
      ]
     },
     "execution_count": 8,
     "metadata": {},
     "output_type": "execute_result"
    }
   ],
   "source": [
    "df_raw_json_2"
   ]
  },
  {
   "cell_type": "code",
   "execution_count": null,
   "id": "034e234f",
   "metadata": {},
   "outputs": [],
   "source": []
  },
  {
   "cell_type": "code",
   "execution_count": null,
   "id": "e32e47e3",
   "metadata": {},
   "outputs": [],
   "source": [
    "## check distinct komoditas"
   ]
  },
  {
   "cell_type": "code",
   "execution_count": 17,
   "id": "2fb01f27",
   "metadata": {
    "scrolled": true
   },
   "outputs": [],
   "source": [
    "df_raw_json_unique_komo = np.unique(df_raw_json[[\"komoditas\"]].values)"
   ]
  },
  {
   "cell_type": "code",
   "execution_count": 18,
   "id": "5091f965",
   "metadata": {
    "scrolled": true
   },
   "outputs": [
    {
     "data": {
      "text/plain": [
       "array([' nila, lele', 'bandeng, kembung',\n",
       "       'bandeng, patin, kembung, mas, tongkol', 'bawal',\n",
       "       'bawal, cumi, gurame, kerang, kepiting, udang',\n",
       "       'bawal, kakap, mas', 'bawal, nila, kakap', 'bawal, nila, kakap,',\n",
       "       'bawal, nila, mas', 'bawal, nila, mas, gurame',\n",
       "       'bawal, nila, tongkol', 'bawal, patin, kakap, kembug, lele, nila',\n",
       "       'cumi-cumi, udang', 'gabus', 'gembung', 'gurame',\n",
       "       'gurame dan bawal', 'gurame, bandeng, mas, mujair',\n",
       "       'gurame, bawal, bawal, kakap, cumi', 'gurame, bawal, mas, nila',\n",
       "       'gurame, kakap, bawal, mas', 'gurame, kakap, kerapu',\n",
       "       'gurame, kakap, kerapu, bawal', 'gurame, kakap, mas',\n",
       "       'gurame, kakap, mas, tongkol', 'gurame, mas, nila',\n",
       "       'gurame, mas, nila, lele,kembung, tongkol,mujaer',\n",
       "       'gurame, mujaer, lele nila,',\n",
       "       'gurame, mujaer, lele, kakap, kerapu, nila',\n",
       "       'gurame, mujaer, nila, lele, mas',\n",
       "       'gurame, nila, kerapu, kakap, bawal, udang, cumi, kerang',\n",
       "       'gurame, nila, lele', 'gurame, nila, lele, mas, mujaer',\n",
       "       'gurame, nila, mas', 'gurame, nila, mas mujaer, lele',\n",
       "       'gurame, nila, mas, patin, kakap, mujair',\n",
       "       'gurame, nila, patin, kakap', 'gurame, nila, patin, mas',\n",
       "       'gurame, nila, patin, mas, kakap',\n",
       "       'gurame, nila, patin, mas, lele, kakap, pari, baracuda, kerapu',\n",
       "       'gurami, bawal, kerapu, cumi', 'ikan  mas, lele, bawal, salem',\n",
       "       'ikan bawal, gurame, salem', 'ikan bawal, lele, gurame',\n",
       "       'ikan bawal, mas, nila', 'ikan bawal,lele,mujair,nila kerapu',\n",
       "       'ikan kele', 'ikan kembung, kepala kakap, tongkol',\n",
       "       'ikan kerapu, etong, bawal, gurami, nila merah', 'ikan laut',\n",
       "       'ikan laut dan lele', 'ikan laut dan tawar',\n",
       "       'ikan laut udang dan ikan tawar', 'ikan laut. ikan tawar',\n",
       "       'ikan lele', 'ikan lele dan mujair', 'ikan lele, mas ',\n",
       "       'ikan lele, mas, nila merah', 'ikan lele,laut', 'ikan lele,mas',\n",
       "       'ikan lele,mujair,ikan laut', 'ikan lele,nila',\n",
       "       'ikan lele,nila,ikan laut', 'ikan man, bawal', 'ikan mas',\n",
       "       'ikan mas ', 'ikan mas dan bawal', 'ikan mas dan ikan mujair',\n",
       "       'ikan mas dan lele', 'ikan mas dan lele, mujair',\n",
       "       'ikan mas dan lele, nila', 'ikan mas dan muajir',\n",
       "       'ikan mas dan mujair', 'ikan mas mujair',\n",
       "       'ikan mas, bawal, gurame, nila, lele,salem',\n",
       "       'ikan mas, bawal, lele', 'ikan mas, bawal, lele, mujair',\n",
       "       'ikan mas, bawal, nila, gurame, tongkol, salem',\n",
       "       'ikan mas, bawal, nila, kakap',\n",
       "       'ikan mas, bawal, tongkol, tenggiri, lele',\n",
       "       'ikan mas, bawal,lele,nila merah dan hitam',\n",
       "       'ikan mas, bawal,nila', 'ikan mas, gurame, lele',\n",
       "       'ikan mas, kembung, lele, tongkol', 'ikan mas, lele',\n",
       "       'ikan mas, lele dan mujair', 'ikan mas, lele, bawal',\n",
       "       'ikan mas, lele, bawal, gurame,kerapu',\n",
       "       'ikan mas, lele, bawal, kakap', 'ikan mas, lele, bawal, mujair',\n",
       "       'ikan mas, lele, bawal, nila,bandeng,tongkol',\n",
       "       'ikan mas, lele, bawal, tongkol, salem, nila',\n",
       "       'ikan mas, lele, gurame', 'ikan mas, lele, gurame, nila, tongkol',\n",
       "       'ikan mas, lele, kerapu, cumi-cumi', 'ikan mas, lele, kerpu',\n",
       "       'ikan mas, lele, mujair', 'ikan mas, lele, mujair, bawal, tongkol',\n",
       "       'ikan mas, lele, nila', 'ikan mas, lele, nila merah',\n",
       "       'ikan mas, lele, nila merah, bawal, gurame',\n",
       "       'ikan mas, lele, nila, bawal',\n",
       "       'ikan mas, lele, nila,kerapu,bawal,gurame',\n",
       "       'ikan mas, lele,mujair', 'ikan mas, lele,tongkol',\n",
       "       'ikan mas, mujair', 'ikan mas, mujair dan bawal',\n",
       "       'ikan mas, mujair, lele', 'ikan mas, mujair, lele,kerapu',\n",
       "       'ikan mas, nila', 'ikan mas, nila merah',\n",
       "       'ikan mas, nila merah, lele', 'ikan mas, nila merah,gurame',\n",
       "       'ikan mas, nila, bawal', 'ikan mas, nila, tongkol, kembung',\n",
       "       'ikan mas, nila/jaer, patin, tongkol, kembung',\n",
       "       'ikan mas, tongkol, bawal, mujair', 'ikan mas,bawal',\n",
       "       'ikan mas,bawal,bandeng,nila,salem',\n",
       "       'ikan mas,bawal,gurame,nila,kerapu',\n",
       "       'ikan mas,bawal,gurame,tongkol,nila', 'ikan mas,bawal,lele',\n",
       "       'ikan mas,bawal,lele,gurame,bandeng,nila merah',\n",
       "       'ikan mas,bawal,salem,bandeng', 'ikan mas,gurame dan lele',\n",
       "       'ikan mas,gurame,lele', 'ikan mas,gurami', 'ikan mas,impun',\n",
       "       'ikan mas,lele', 'ikan mas,lele,bawal',\n",
       "       'ikan mas,lele,bawal,gurame,kerapu', 'ikan mas,lele,muajir,gurame',\n",
       "       'ikan mas,lele,nila,bawal', 'ikan mas,lele,nilem,gurame',\n",
       "       'ikan mas,mujair', 'ikan mas,nila', 'ikan mas,nila ',\n",
       "       'ikan mas,nila merah,gurame,lele', 'ikan mas,tongkol,bawal',\n",
       "       'ikan mujaer, ikan mas', 'ikan mujaer, lele, kembung',\n",
       "       'ikan nila, kakap, lele, bawal, kembung, salam',\n",
       "       'ikan patin, ikan mas, ikan kembung', 'ikan tongkol ikan peda',\n",
       "       'ikanlele,mas,bawal,gurame,kerapu,salem,bandeng', 'ikn mas,mujair',\n",
       "       'jaer, kembung, emas, lele, bandeng',\n",
       "       'jaer, patin, patin, mas, lele, kembung', 'jambal', 'kakap',\n",
       "       'kakap bawal gurame udang', 'kakap lele kembung tongkol salem',\n",
       "       'kakap, bawal, tongkol', 'kakap, gurame', 'kakap, kembung',\n",
       "       'kakap, kembung, tongkol, lele, mujaer',\n",
       "       'kakap, kembung, tongkol, mas', 'kakap, kembung, tongkol, patin',\n",
       "       'kakap, lele, bawal', 'kakap, lele, kembung, nila',\n",
       "       'kakap, lele, kembung, tongkol', 'kakap, lele, tongkol, kembung',\n",
       "       'kakap, nila, kembung, tongkol', 'kakap, nila, mas, tongkol',\n",
       "       'kakap, tongkol', 'kakap, tongkol, lele', 'kakap, tongkol, nila',\n",
       "       'kembung', 'kembung , kakap, tongkol, mujaer/nila, lele , mas',\n",
       "       'kembung patin lele', 'kembung, bawal', 'kembung, lele',\n",
       "       'kembung, lele, kakap', 'kembung, lele, mas',\n",
       "       'kembung, lele, nila', 'kembung, lele, nila, kakap',\n",
       "       'kembung, lele, patin, kakap, salem',\n",
       "       'kembung, lele, patin, nila, kakap', 'kembung, lele, tongkol',\n",
       "       'kembung, nila', 'kembung, nila, lele', 'kembung, nila, mas, lele',\n",
       "       'kembung, salem, lele', 'kembung, tingkol, lele',\n",
       "       'kembung, tongkol, bawal, lele', 'kembung, tongkol, lele',\n",
       "       'kembung, tongkol, lele, kakap', 'kembung, tongkol, lele, nila',\n",
       "       'kembung, tongkol, lele, nila, patin', 'kembung, tongkol, mas',\n",
       "       'kembung, tongkol, mas, lele, mujaer,',\n",
       "       'kembung, tongkol, mas, nila',\n",
       "       'kepiting , kerapu , kerang , udang tawar , gurame ',\n",
       "       'kepiting, udang, cumi, bawal, gurame',\n",
       "       'kerang kepiting, gurame, bawal, udang, cumi',\n",
       "       'kerapu , barunang , kakap , gurame ',\n",
       "       'kerapu, kakap, gurame, lele, tongkol,',\n",
       "       'kerapu, lele, kakap, nila', 'krapu, kakap, tongkol, lele', 'lele',\n",
       "       'lele ', 'lele , kakap , bawal , kerapu , gurame ', 'lele , nila ',\n",
       "       'lele , patin , mas ', 'lele ayam',\n",
       "       'lele ayam goreng bebek goreng', 'lele dan nila', 'lele, ',\n",
       "       'lele, bawal', 'lele, bawal, nila', 'lele, bawal, patin, kakap',\n",
       "       'lele, dll', 'lele, gurame, bawal',\n",
       "       'lele, ikan mas, kembung, patin',\n",
       "       'lele, ikan mas, tongkol, kembung, bandeng, patin',\n",
       "       'lele, kakap, gurame,bawal', 'lele, kakap, kembung, tongkol',\n",
       "       'lele, kakap, mas, nila', 'lele, kakap, patin, bawal',\n",
       "       'lele, kakap, patin, tongkol, kembung',\n",
       "       'lele, kakap, tongkol, kerapu', 'lele, kembung',\n",
       "       'lele, kembung, kakap', 'lele, kembung, nila',\n",
       "       'lele, kembung, nila, patin, kakap',\n",
       "       'lele, kembung, nila, tongkol',\n",
       "       'lele, kembung, patin, nila, tongkol, mas, salem, bawal',\n",
       "       'lele, kembung, patin, tongkol', 'lele, kembung, tongkol',\n",
       "       'lele, kembung, tongkol,', 'lele, kembung, tongkol, nila, kakap',\n",
       "       'lele, kerapu, ikan mas, pindang tongkol, gurame',\n",
       "       'lele, kerapu, kakap, gurame', 'lele, mas', 'lele, mas ',\n",
       "       'lele, mas, bandeng, tongkol, patin', 'lele, mas, gurame',\n",
       "       'lele, mas, jaer, kembung', 'lele, mas, mujaer, tongkol',\n",
       "       'lele, mas, mujair', 'lele, mas, nila', 'lele, mas, tongkol',\n",
       "       'lele, mujaer, nila, ', 'lele, mujaer, nila, mas,',\n",
       "       'lele, mujaer, tongkol, mas', 'lele, nila', 'lele, nila, bawal',\n",
       "       'lele, nila, gurame', 'lele, nila, kembung',\n",
       "       'lele, nila, kembung, mas', 'lele, nila, kembung, tongkol',\n",
       "       'lele, nila, mas', 'lele, nila, mas, bawal',\n",
       "       'lele, nila, mas, bawal, tongkol',\n",
       "       'lele, nila, mas, bawal, tongkol, kembung',\n",
       "       'lele, nila, mas, kakap', 'lele, nila, mas, kembung, tongkol',\n",
       "       'lele, nila, patin', 'lele, nila, tongkol',\n",
       "       'lele, parin, kakap, kembung, tongkol',\n",
       "       'lele, patin, bawal, kembung, kepala kakap, tongkol',\n",
       "       'lele, patin, bawal, salem, kembung,tongkol',\n",
       "       'lele, patin, kembung, kakap, bawal',\n",
       "       'lele, patin, kembung, tongkol, bandeng',\n",
       "       'lele, patin, nila, bawal, kembung, kakap',\n",
       "       'lele, patin, tongkol, kakap, kembung',\n",
       "       'lele, patin, tongkol, kembung, kakap', 'lele, tongkol',\n",
       "       'lele, tongkol,  kakap, kembung, ', 'lele, tongkol, mas',\n",
       "       'lele, tongkol, mas, nila', 'lele, tongkol, nila',\n",
       "       'lele, tongkol, nila,', 'lele, tongkol, nila, mas',\n",
       "       'lele, tongkol, patin,kakap, kembung',\n",
       "       'lele, udang, kepiting, cumi, ikan bawal',\n",
       "       'lele,kembung, bawal, nila, tongkol', 'lele,tongkol,mas',\n",
       "       'lelw, patin, bawal, kembung, kakap, nila', 'mas', 'mas&mujair',\n",
       "       'mas, bawal, gurame, nila, patin', 'mas, bawal, mujaer, kakap',\n",
       "       'mas, gurame, nila, kakap, mujair', 'mas, gurame, nila, lele, ',\n",
       "       'mas, kakap, tongkol, gurame, munkar, nila, lele', 'mas, lele',\n",
       "       'mas, lele, gurame', 'mas, lele, mujaer', 'mas, lele, mujaer,',\n",
       "       'mas, lele, mujaer, ', 'mas, lele, mujaer, gurame',\n",
       "       'mas, lele, mujaer, nila, tongkol', 'mas, lele, mujair',\n",
       "       'mas, lele, mujir', 'mas, lele, nila', 'mas, lele, nila, gurame',\n",
       "       'mas, lele, nila, mujaer', 'mas, lele, tongkol', 'mas, mujaer',\n",
       "       'mas, mujaer, gurame', 'mas, mujaer, lele',\n",
       "       'mas, mujaer, lele, nila', 'mas, mujaer, lele, tongkol',\n",
       "       'mas, mujaer, nila', 'mas, mujaer, nila, bawal',\n",
       "       'mas, mujaer, nila, bawal, kakap',\n",
       "       'mas, mujaer, nila, gurame, lele,', 'mas, mujaer, nila, lele',\n",
       "       'mas, mujaer, tongkol', 'mas, mujaer, tongkol, lele',\n",
       "       'mas, mujaer, tongkol, nila', 'mas, mujair, lele',\n",
       "       'mas, mujair, nila, lele', 'mas, munkar, nila tongkol',\n",
       "       'mas, nila', 'mas, nila, bawal', 'mas, nila, cakalang',\n",
       "       'mas, nila, gurame', 'mas, nila, gurame, kakap',\n",
       "       'mas, nila, kakap', 'mas, nila, lele', 'mas, nila, lele, gurame',\n",
       "       'mas, nila, lele, patin', 'mas, nila, lele, tongkol, ',\n",
       "       'mas, nila, lele, tongkol, kembung',\n",
       "       'mas, nila, majaer, tongkol, ', 'mas, nila, mujaer, lele',\n",
       "       'mas, nila, mujaer, lele, tongkol,',\n",
       "       'mas, nila, mujaer, lele, tongkol, ', 'mas, nila, patin',\n",
       "       'mas, nila, tongkol', 'mas, nila, tongkol, lele', 'mas, tongkol',\n",
       "       'mas, tongkol, ', 'mas, tongkol, kembung, ',\n",
       "       'mas, tongkol, lele, nila', 'mas, tongkol, mujaer, lele',\n",
       "       'mas, tongkol, mujaer, lele, nila', 'mas, tongkol, nila',\n",
       "       'mas, tongkol, nila, mujaer', 'mas, tongkol, patin',\n",
       "       'mas,tongkol,lele', 'mujaer', 'mujaer, lele, tongkol',\n",
       "       'mujaer, nila, lele, mas, ', 'mujaer, nila, mas', 'mujair',\n",
       "       'mujair, nila, bawal, mas',\n",
       "       'nasi uduk pecel lele sotobayam babat , udang dll', 'nila',\n",
       "       'nila ', 'nila bawal tongkol', 'nila kembung tongkol lele bawal',\n",
       "       'nila, bawal', 'nila, bawal, kakap', 'nila, bawal, lele',\n",
       "       'nila, kakap', 'nila, kakap, kembung', 'nila, kakap, mas',\n",
       "       'nila, kembung', 'nila, lele',\n",
       "       'nila, lele, gurame, kerapu, cakalang', 'nila, mas',\n",
       "       'nila, mas, bawal, kembung, lele', 'nila, mas, kembung',\n",
       "       'nila, mas, mujaer', 'nila, mas, mujaer, lele',\n",
       "       'nila, mas, tongkol', 'nila, tongkol', 'nila, tongkol, ',\n",
       "       'nila, tongkol, kakap', 'patin', 'patin, bandeng, kembung',\n",
       "       'patin, kembung, lele, ikan tongkol bandeng',\n",
       "       'patin, lele, tongkol, kembung', 'pecel lele bebek goreng',\n",
       "       'pecel lele goreng/bakar', 'pecel lele nasi uduk dll',\n",
       "       'pecel lele. sate usus dll', 'pindang bandeng, lele, ikan mas',\n",
       "       'salem', 'salem, kembung, tongkol, mujaer, lele', 'sea food',\n",
       "       'soto ayam babat kikil lele', 'tngkol, nila', 'tongkol',\n",
       "       'tongkol ', 'tongkol , patin , lele , mas',\n",
       "       'tongkol bawal salem mujair kembung kakap', 'tongkol kakap',\n",
       "       'tongkol kembung', 'tongkol, bawal', 'tongkol, bawal, lele',\n",
       "       'tongkol, bawal, nila', 'tongkol, kakap',\n",
       "       'tongkol, kakap, kembung', 'tongkol, kakap, kembung, nila',\n",
       "       'tongkol, kakap, lele', 'tongkol, kakap, nila',\n",
       "       'tongkol, kakap, nila, lele', 'tongkol, kembung',\n",
       "       'tongkol, kembung, kakap, lele', 'tongkol, kembung, lele',\n",
       "       'tongkol, kembung, lele, kakap',\n",
       "       'tongkol, kembung, lele, kakap, nila',\n",
       "       'tongkol, kembung, lele, nila', 'tongkol, kembung, lele, salem',\n",
       "       'tongkol, kembung, nila, lele', 'tongkol, lele',\n",
       "       'tongkol, lele nila', 'tongkol, lele, bawal',\n",
       "       'tongkol, lele, kakap', 'tongkol, lele, mas',\n",
       "       'tongkol, lele, nila', 'tongkol, lele, nila, mas', 'tongkol, mas',\n",
       "       'tongkol, mas, lele', 'tongkol, mas, lele,',\n",
       "       'tongkol, mas, lele, nila', 'tongkol, mas, mujaer',\n",
       "       'tongkol, mas, nila', 'tongkol, mujaer',\n",
       "       'tongkol, mujaer, mas, nila', 'tongkol, nil', 'tongkol, nila',\n",
       "       'tongkol, nila, bawal', 'tongkol, nila, bawal, kakap',\n",
       "       'tongkol, nila, kakap, bawal, kembung', 'tongkol, nila, lele',\n",
       "       'tongkol, nila, lele, mas', 'tongkol, nila, mas',\n",
       "       'tongkol, nila, mas, lele', 'tongkol, salem, lele, mujaer, kakap',\n",
       "       'tongkol,lele,kakap', 'udang gurame kerapu kakap bawal',\n",
       "       'udang kakap bawal lele nila'], dtype=object)"
      ]
     },
     "execution_count": 18,
     "metadata": {},
     "output_type": "execute_result"
    }
   ],
   "source": [
    "df_raw_json_unique_komo"
   ]
  },
  {
   "cell_type": "code",
   "execution_count": null,
   "id": "26eccdf7",
   "metadata": {},
   "outputs": [],
   "source": []
  },
  {
   "cell_type": "code",
   "execution_count": null,
   "id": "0fafd962",
   "metadata": {},
   "outputs": [],
   "source": [
    "## check distinct berat"
   ]
  },
  {
   "cell_type": "code",
   "execution_count": 19,
   "id": "a14dd780",
   "metadata": {},
   "outputs": [],
   "source": [
    "df_raw_json_unique_brt = np.unique(df_raw_json[[\"berat\"]].values)"
   ]
  },
  {
   "cell_type": "code",
   "execution_count": 20,
   "id": "1cb0daec",
   "metadata": {
    "scrolled": true
   },
   "outputs": [
    {
     "data": {
      "text/plain": [
       "array(['-+ 2 kg', '1', '1 1/2', '1 1/2 ', '1 kg', '1 kg ', '1 kg lele',\n",
       "       '1 kg masing masing', '1 kg per hari', '1 kg rata rata',\n",
       "       '1 sampai 6 kg', '1,5 kg', '1,5 kg ratarata', '1,5-2', '1-1,5',\n",
       "       '1-1/2 ', '1-2', '1-2 ', '1-2 kg', '1-2kg', '1-3', '1-3kg', '1-4',\n",
       "       '1-4kg', '1-5', '1-5 kg', '1-5kg', '1.5 kg rata rata', '1/2',\n",
       "       '1/2 ', '1/2 kg', '10', '10 kg', '10kg',\n",
       "       '10kg, 10kg, 10kg, 8kg, 8kg, 8kg', '10kg, 10kg, 8kg',\n",
       "       '10kg, 6kg, 6kg', '10kg, 6kg, 8kg', '10kg, 8kg', '10kg, 8kg, 5kg',\n",
       "       '10kg, 8kg, 8kg', '10kg, 8kg, 8kg, 6kg, 10kg', '12kg',\n",
       "       '12kg, 8kg, 8kg, 10kg, 8kg', '15kg untuk 2 kios', '1kg', '1kg ',\n",
       "       '1kg rata', '1kg rata rata', '1kg rata rata kecuali kembung 2 kg',\n",
       "       '1kg rata2', '1kg rata2 kadang kurang dari 1kg', '1kg, 2kg, 2kg',\n",
       "       '1kg, lele 3kg', '1kg-3kg', '1s.d 1,5 kg', '2', '2 hari 1kg ',\n",
       "       '2 kg', '2 kg ,2 kg', '2 kg, 2  kg, 2kg, 2 kg', '2 kg, 2 kg',\n",
       "       '2 kg, 2 kg, 1 kg', '2 kg, 2 kg, 2 kg', '2 kg, 2 kg, 2 kg, 2 kg',\n",
       "       '2 kg, 2 kg, 2 kg, 2kg, 3 kg', '2 kg, 2 kg, 2kg',\n",
       "       '2 kg, 2 kg, 2kg, 2kg', '2 kg, 2 kg, 3 kg', '2 kg, 2kg',\n",
       "       '2 kg, 3  kg, 3 kg, 3 kg', '2 kg, 3 jg, 3 kg, 2 kg', '2 kg, 3 kg',\n",
       "       '2 kg, 3 kg, 2 kg', '2 kg, 3 kg, 3 kg, 2 kg',\n",
       "       '2 kg, 3 kg, 3 kg, 3kg', '2 sampai 3 kg', '2 sampai 3kg',\n",
       "       '2 sampe 3 kg', '2 sampe 3kg', '2, 2', '2, 2, 2', '2, 3, 2, 3',\n",
       "       '2,2,2', '2,2,2,2', '2,3,2,2,3', '2,3,2,3', '2,5', '2-2,5', '2-3',\n",
       "       '2-3 kg', '2-3kg', '2-4', '2-4 kg', '2-4kg', '2-5', '2-5 kg',\n",
       "       '2-5kg', '2-6', '2-6kg', '2kg', '2kg kadang 1kg masing2',\n",
       "       '2kg per jenis ikan', '2kg perikan', '2kg rata rata',\n",
       "       '2kg ratarata', '2kg, 2-3kg', '2kg, 2kg', '2kg, 2kg, 1kg',\n",
       "       '2kg, 2kg, 2kg', '2kg, 2kg, 2kg,', '2kg, 2kg, 2kg, 2kg',\n",
       "       '2kg, 2kg, 2kg, 2kg,', '2kg, 2kg, 2kg, 2kg, ',\n",
       "       '2kg, 2kg, 2kg, 2kg, 2kg, ', '2kg, 2kg, 2kg, 3kg',\n",
       "       '2kg, 2kg, 3kg, 2kg', '2kg, 3 kg, 3kg', '2kg, 3kg, 1kg',\n",
       "       '2kg, 3kg, 2kg', '2kg, 3kg, 2kg, 2kg', '2kg, 3kg, 3kg, 2kg, 2kg',\n",
       "       '2kg,1kg,3kg', '2kg,2kg,1kg',\n",
       "       '2kg-3kg kecuali kepiting dan udang 1kg', '3', '3 kg',\n",
       "       '3 kg , 3 kg, 3 kg', '3 kg ikan tawar per hari', '3 kg, 2 kg',\n",
       "       '3 kg, 2 kg, 2 kg', '3 kg, 2 kg, 2kg', '3 kg, 2 kg, 3 kg , 3 kg',\n",
       "       '3 kg, 2kg, 2kg, 2kg', '3 kg, 3 kg', '3 kg, 3 kg , 3 kg',\n",
       "       '3 kg, 3 kg 3 kg', '3 kg, 3 kg, 2 kg', '3 kg, 3 kg, 3 kg',\n",
       "       '3 kg, 3 kg, 3kg', '3 kg, 3 kg, 3kg, 3kg ',\n",
       "       '3 kg, 3 kg, 3kg, 3kg, 3 kg', '3 kg, 3kg', '3 kg, 3kg, 3kg',\n",
       "       '3 kg, 3kg, 3kg, 3kg', '3 kg, 4 kg', '3 sampe 4 kg', '3 sampe 4kg',\n",
       "       '3, 2, 2', '3, 3', '3, 3, 2', '3, 3, 3', '3, 3, 3, 2',\n",
       "       '3, 3, 6, 4', '3,2,4,4', '3,3', '3,3,2', '3,3,2,3,3', '3,3,3',\n",
       "       '3,3,3,2,2', '3,3,3,3', '3,3,3,4,3', '3,3,3,4,4', '3,3,4',\n",
       "       '3,4,3,3', '3,4,3,3,3', '3,4,4', '3,5', '3-3,5', '3-4', '3-4 kg',\n",
       "       '3-4,5', '3-4kg', '3-5', '3-5 ', '3-5 kg', '3-5kg', '3-6 kg',\n",
       "       '3-6kg', '3kg', '3kg , 3 kg, 3 kg', '3kg, 2kg', '3kg, 2kg, 2kg',\n",
       "       '3kg, 2kg, 3kg', '3kg, 2kg, 3kg, 2kg', '3kg, 3 kg',\n",
       "       '3kg, 3 kg,3 kg', '3kg, 3kg, 2kg', '3kg, 3kg, 2kg, 2kg',\n",
       "       '3kg, 3kg, 2kg, 2kg, 2kg', '3kg, 3kg, 3 kg', '3kg, 3kg, 3 kg, 2kg',\n",
       "       '3kg, 3kg, 3kg', '3kg, 3kg, 3kg, 2kg, 2kg', '3kg, 3kg, 3kg, 3kg',\n",
       "       '4', '4 - 5 kg', '4 atau 3kg', '4 kg', '4 kg, 3 kg',\n",
       "       '4 kg, 4 kg, 4 kg', '4 kg, 5 kg, 5 kg', '4 sampai 5kg',\n",
       "       '4 sampe 5kg', '4, 3, 3', '4, 3, 4', '4, 3, 5, 5', '4, 4',\n",
       "       '4, 4, 6', '4, 5', '4, 5, 5', '4, 6', '4,2,6', '4,3', '4,3,3',\n",
       "       '4,3,3,3', '4,3,3,4,3', '4,4', '4,4,3', '4,4,3,2', '4,4,3,4',\n",
       "       '4,4,4', '4,4,4,3,4', '4,4,4,4,4', '4,4,4,5,4', '4,4,5', '4,4,5,4',\n",
       "       '4,4,5,5', '4,4,6', '4,5', '4,5,4,4', '4,5,5', '4,5,5,5',\n",
       "       '4,5,5,5,5', '4-4,5', '4-5', '4-5 kg', '4-5kg', '4-6', '4-6kg',\n",
       "       '4g', '4kg', '4kg lele per hari', '4kg, 3kg', '4kg, 5kg',\n",
       "       '4kg, 6kg, 5kg', '5', '5 ', '5 kg',\n",
       "       '5 kg ikan perhari semua jenis ikan', '5 kg, 4 kg, 4 kg, 5 kg',\n",
       "       '5 kg, 5 kg, 5 kg, 5 kg', '5 kg, 6 kg, 6 kg', '5, 3', '5, 3, 4',\n",
       "       '5, 3, 5', '5, 3, 5, 4', '5, 3, 6', '5, 3, 6, 4', '5, 4',\n",
       "       '5, 4, 3', '5, 4, 4', '5, 5', '5, 5, 4', '5, 5, 6', '5, 6',\n",
       "       '5, 6, 4', '5, 6, 5', '5, 7', '5, t', '5,3', '5,3,3', '5,3,3,4',\n",
       "       '5,3,4,3,3', '5,3,5', '5,4', '5,4,4', '5,4,4,3', '5,4,4,4',\n",
       "       '5,4,4,5,5', '5,4,4,5,5,5,4', '5,4,5', '5,5', '5,5,3,4', '5,5,4,4',\n",
       "       '5,5,4,4,3,4', '5,5,5', '5,5,6,7', '5,6', '5,6,5', '5-5,5', '5-6',\n",
       "       '5-6 kg', '5-7', '5-7 kg', '5-7kg', '5kg', '5kg, 4kg, 3kg',\n",
       "       '5kg, 5kg', '5kg, 5kg, 4kg', '5kg, 5kg, 5kg', '5kg, 6kg, 4kg, 6kg',\n",
       "       '5kg, 6kg, 6kg, 8kg, 8kg, 5kg, 3kg, 3kg, 5kg', '5kg, 7kg',\n",
       "       '5kg, 7kg, 7kg', '6', '6 ', '6 kg', '6, 3', '6, 3, 3', '6, 4',\n",
       "       '6, 4, 4', '6, 5', '6, 5, 4, 5', '6, 5, 5', '6, 5, 5, 4',\n",
       "       '6, 5, 6', '6, 6', '6,3', '6,3,3', '6,5', '6-7', '6-8', '6kg',\n",
       "       '6kg, 5kg', '6kg, 5kg, 5kg', '6kg, 5kg, 5kg, 10kg',\n",
       "       '6kg, 5kg, 5kg, 7kg', '6kg, 6kg', '6kg, 6kg, 4kg', '6kg, 6kg, 5kg',\n",
       "       '6kg, 6kg, 6kg', '6kg, 7kg, 5kg', '6kg, 7kg, 6kg', '6kg,7kg, 5kg',\n",
       "       '7', '7 kg', '7, 4', '7-8', '7kg, 5kg, 5kg', '7kg, 5kg, 6kg, 8kg',\n",
       "       '7kg, 6kg', '7kg, 7kg', '7kg, 7kg, 5kg', '7kg, 7kg, 5kg, 6kg',\n",
       "       '7kg, 7kg, 6kg', '7kg, 7kg, 7kg, 7kg', '8', '8-9', '8kg',\n",
       "       '8kg rata2', '8kg, 10kg', '8kg, 10kg, 6kg', '8kg, 5kg, 5kg',\n",
       "       '8kg, 5kg, 7kg, 6kg', '8kg, 5kg, 8kg', '8kg, 6kg, 10kg',\n",
       "       '8kg, 6kg, 6kg', '8kg, 7kg', '8kg, 7kg, 7g', '8kg, 7kg, 7kg',\n",
       "       '8kg, 8kg', '8kg, 8kg, 10kg, 8kg', '8kg, 8kg, 8kg, 8kg', '9',\n",
       "       '9-10', 'bawal 1kg gurame 1kg lele 3kg',\n",
       "       'cumi 1 kg.  lele 4 kg.udang cumi 1kg', 'ekg, 3 kg, 3kg',\n",
       "       'gak nentu', 'gak tau kata pegawai nya',\n",
       "       'gak tau katanya cuma jaga warung', 'idem',\n",
       "       'idem yg punyanya nga ada cuma pegawai',\n",
       "       'kadang 1kg kadang kurang',\n",
       "       'kakap 2kg lele 1kg kembung 1kg tongkol 1kg salem 1kg',\n",
       "       'kurang 1kg', 'kurang dari 1kg', 'kurang dari 1kg rata rata',\n",
       "       'kurang dari sekilo rata rata ', 'kurang lebih 1kg',\n",
       "       'lele 2 sampai 3 kg', 'lele 3 kg per hari', 'lele 3kg nila 2 kg',\n",
       "       'lele 6kg, bawal 1kg, nila 1kg', 'masing-masing 1 kg',\n",
       "       'nila 1kg bawal 2kg kembung 5kg lele 2kg tongkol 3kg',\n",
       "       'rata 1kg kecuali kembung 2kg', 'rata rata 1kg',\n",
       "       'rata rata 1kg kecuali lele 3kg', 'rata rata 2kg', 'rata-rata 2 ',\n",
       "       'rata2 1 kg', 'rata2 1kg', 'rata2 1kg kecuali kembung 2kg',\n",
       "       'rata2 2 kg', 'rata2 kurang dari 1kg', 'setengah kilo',\n",
       "       'setengan kilo', 'tidak menentu'], dtype=object)"
      ]
     },
     "execution_count": 20,
     "metadata": {},
     "output_type": "execute_result"
    }
   ],
   "source": [
    "df_raw_json_unique_brt"
   ]
  },
  {
   "cell_type": "code",
   "execution_count": null,
   "id": "38add980",
   "metadata": {},
   "outputs": [],
   "source": []
  },
  {
   "cell_type": "code",
   "execution_count": null,
   "id": "fd5392f6",
   "metadata": {},
   "outputs": [],
   "source": [
    "## flatten column of komoditas and berat\n",
    "### the columns are joined into one single list"
   ]
  },
  {
   "cell_type": "code",
   "execution_count": 22,
   "id": "3d48cd75",
   "metadata": {},
   "outputs": [],
   "source": [
    "flatten_df_raw_json = df_raw_json.stack().values"
   ]
  },
  {
   "cell_type": "code",
   "execution_count": 23,
   "id": "67c91aeb",
   "metadata": {
    "scrolled": true
   },
   "outputs": [
    {
     "data": {
      "text/plain": [
       "array(['lele, bawal, nila', 'lele 6kg, bawal 1kg, nila 1kg',\n",
       "       'kakap lele kembung tongkol salem',\n",
       "       'kakap 2kg lele 1kg kembung 1kg tongkol 1kg salem 1kg',\n",
       "       'ikan nila, kakap, lele, bawal, kembung, salam',\n",
       "       'rata2 1kg kecuali kembung 2kg', 'nila kembung tongkol lele bawal',\n",
       "       'nila 1kg bawal 2kg kembung 5kg lele 2kg tongkol 3kg',\n",
       "       'lele, kerapu, ikan mas, pindang tongkol, gurame', 'rata2 1kg',\n",
       "       'ikan patin, ikan mas, ikan kembung', 'rata rata 1kg',\n",
       "       'patin, kembung, lele, ikan tongkol bandeng', 'rata2 1 kg',\n",
       "       'ikan mas, kembung, lele, tongkol', 'rata2 1kg', 'lele', '3kg',\n",
       "       'kembung', 'kadang 1kg kadang kurang',\n",
       "       'lele, ikan mas, tongkol, kembung, bandeng, patin',\n",
       "       'kurang dari 1kg', 'patin, bandeng, kembung', 'rata2 1kg',\n",
       "       'ikan mas, nila/jaer, patin, tongkol, kembung', 'rata2 1kg',\n",
       "       'lele, patin, kembung, tongkol, bandeng', 'kurang lebih 1kg',\n",
       "       'ikan mujaer, ikan mas', '1kg',\n",
       "       'lele, mas, bandeng, tongkol, patin', 'rata2 1kg',\n",
       "       'tongkol, salem, lele, mujaer, kakap', 'rata2 1kg',\n",
       "       'tongkol bawal salem mujair kembung kakap', 'rata2 1kg',\n",
       "       'ikan tongkol ikan peda', 'kurang dari 1kg',\n",
       "       'ikan mujaer, lele, kembung', 'kurang dari 1kg',\n",
       "       'ikan kembung, kepala kakap, tongkol', 'kurang dari 1kg',\n",
       "       'lele dan nila', 'lele 3kg nila 2 kg',\n",
       "       'gurame, kakap, kerapu, bawal', '8kg rata2', 'lele', '5kg', 'lele',\n",
       "       '5kg'], dtype=object)"
      ]
     },
     "execution_count": 23,
     "metadata": {},
     "output_type": "execute_result"
    }
   ],
   "source": [
    "flatten_df_raw_json[:50]"
   ]
  },
  {
   "cell_type": "code",
   "execution_count": 28,
   "id": "64ecd373",
   "metadata": {},
   "outputs": [
    {
     "data": {
      "text/plain": [
       "'kakap 2kg lele 1kg kembung 1kg tongkol 1kg salem 1kg'"
      ]
     },
     "execution_count": 28,
     "metadata": {},
     "output_type": "execute_result"
    }
   ],
   "source": [
    "flatten_df_raw_json[3]"
   ]
  },
  {
   "cell_type": "code",
   "execution_count": null,
   "id": "4a31a61c",
   "metadata": {},
   "outputs": [],
   "source": []
  },
  {
   "cell_type": "code",
   "execution_count": null,
   "id": "deadaf3a",
   "metadata": {},
   "outputs": [],
   "source": [
    "## get komoditas values\n",
    "### and then split the ', ' into one value of komoditas"
   ]
  },
  {
   "cell_type": "code",
   "execution_count": 57,
   "id": "9164a8f5",
   "metadata": {},
   "outputs": [],
   "source": [
    "komo_flatten_df_json = flatten_df_raw_json[::2]"
   ]
  },
  {
   "cell_type": "code",
   "execution_count": 76,
   "id": "07c48eb2",
   "metadata": {
    "scrolled": false
   },
   "outputs": [
    {
     "data": {
      "text/plain": [
       "array(['lele, bawal, nila', 'kakap lele kembung tongkol salem',\n",
       "       'ikan nila, kakap, lele, bawal, kembung, salam',\n",
       "       'nila kembung tongkol lele bawal',\n",
       "       'lele, kerapu, ikan mas, pindang tongkol, gurame',\n",
       "       'ikan patin, ikan mas, ikan kembung',\n",
       "       'patin, kembung, lele, ikan tongkol bandeng',\n",
       "       'ikan mas, kembung, lele, tongkol', 'lele', 'kembung'],\n",
       "      dtype=object)"
      ]
     },
     "execution_count": 76,
     "metadata": {},
     "output_type": "execute_result"
    }
   ],
   "source": [
    "komo_flatten_df_json[:10]"
   ]
  },
  {
   "cell_type": "code",
   "execution_count": 173,
   "id": "3791cd74",
   "metadata": {},
   "outputs": [],
   "source": [
    "# empty list to store result data\n",
    "komo_flatten_df_json_final = []"
   ]
  },
  {
   "cell_type": "code",
   "execution_count": 174,
   "id": "b42f01ec",
   "metadata": {
    "scrolled": true
   },
   "outputs": [
    {
     "data": {
      "text/plain": [
       "[]"
      ]
     },
     "execution_count": 174,
     "metadata": {},
     "output_type": "execute_result"
    }
   ],
   "source": [
    "komo_flatten_df_json_final"
   ]
  },
  {
   "cell_type": "code",
   "execution_count": 180,
   "id": "1f250ab8",
   "metadata": {},
   "outputs": [
    {
     "data": {
      "text/plain": [
       "2323"
      ]
     },
     "execution_count": 180,
     "metadata": {},
     "output_type": "execute_result"
    }
   ],
   "source": [
    "len(komo_flatten_df_json_final)"
   ]
  },
  {
   "cell_type": "code",
   "execution_count": null,
   "id": "fca80c28",
   "metadata": {},
   "outputs": [],
   "source": []
  },
  {
   "cell_type": "code",
   "execution_count": null,
   "id": "dee8e499",
   "metadata": {},
   "outputs": [],
   "source": [
    "## get berat values\n",
    "### and then split the ', ' into one value of berat"
   ]
  },
  {
   "cell_type": "code",
   "execution_count": 100,
   "id": "3a43fc31",
   "metadata": {},
   "outputs": [],
   "source": [
    "berat_flatten_df_json = flatten_df_raw_json[1:][::2]"
   ]
  },
  {
   "cell_type": "code",
   "execution_count": 144,
   "id": "380aece9",
   "metadata": {
    "scrolled": true
   },
   "outputs": [
    {
     "data": {
      "text/plain": [
       "array(['lele 6kg, bawal 1kg, nila 1kg',\n",
       "       'kakap 2kg lele 1kg kembung 1kg tongkol 1kg salem 1kg',\n",
       "       'rata2 1kg kecuali kembung 2kg',\n",
       "       'nila 1kg bawal 2kg kembung 5kg lele 2kg tongkol 3kg', 'rata2 1kg',\n",
       "       'rata rata 1kg', 'rata2 1 kg', 'rata2 1kg', '3kg',\n",
       "       'kadang 1kg kadang kurang'], dtype=object)"
      ]
     },
     "execution_count": 144,
     "metadata": {},
     "output_type": "execute_result"
    }
   ],
   "source": [
    "berat_flatten_df_json[:10]"
   ]
  },
  {
   "cell_type": "code",
   "execution_count": 176,
   "id": "b19c8532",
   "metadata": {},
   "outputs": [],
   "source": [
    "# empty list to store result data\n",
    "berat_flatten_df_json_final = []"
   ]
  },
  {
   "cell_type": "code",
   "execution_count": 177,
   "id": "08e92f74",
   "metadata": {
    "scrolled": true
   },
   "outputs": [
    {
     "data": {
      "text/plain": [
       "[]"
      ]
     },
     "execution_count": 177,
     "metadata": {},
     "output_type": "execute_result"
    }
   ],
   "source": [
    "berat_flatten_df_json_final"
   ]
  },
  {
   "cell_type": "code",
   "execution_count": 179,
   "id": "9e524a59",
   "metadata": {
    "scrolled": true
   },
   "outputs": [
    {
     "data": {
      "text/plain": [
       "2323"
      ]
     },
     "execution_count": 179,
     "metadata": {},
     "output_type": "execute_result"
    }
   ],
   "source": [
    "len(berat_flatten_df_json_final)"
   ]
  },
  {
   "cell_type": "code",
   "execution_count": 175,
   "id": "369c8a64",
   "metadata": {},
   "outputs": [],
   "source": [
    "berat_flatten_df_json_final.clear()"
   ]
  },
  {
   "cell_type": "code",
   "execution_count": null,
   "id": "4a6bebce",
   "metadata": {},
   "outputs": [],
   "source": []
  },
  {
   "cell_type": "code",
   "execution_count": null,
   "id": "392bd037",
   "metadata": {},
   "outputs": [],
   "source": [
    "## split 'komoditas' column which has comma in its value\n",
    "### the 'berat' column count will follow the count of 'komoditas' column\n",
    "### using for loop and conditional to split the data"
   ]
  },
  {
   "cell_type": "code",
   "execution_count": 178,
   "id": "24556fcc",
   "metadata": {},
   "outputs": [],
   "source": [
    "for (komo, berat) in zip(komo_flatten_df_json, berat_flatten_df_json):\n",
    "    \n",
    "    if re.search(r\"\\,\\s\", komo) :\n",
    "        \n",
    "        # process komoditas\n",
    "        single_val = komo.split(', ')\n",
    "        \n",
    "        for i in single_val:\n",
    "            komo_flatten_df_json_final.append(i)\n",
    "            \n",
    "        # process berat\n",
    "        # the count of berat will follow count of komoditas\n",
    "        for i in range(len(single_val)):\n",
    "            berat_flatten_df_json_final.append(berat)\n",
    "    \n",
    "    else:\n",
    "        # process komoditas\n",
    "        komo_flatten_df_json_final.append(komo)\n",
    "        \n",
    "        # process berat\n",
    "        berat_flatten_df_json_final.append(berat)"
   ]
  },
  {
   "cell_type": "code",
   "execution_count": null,
   "id": "8640092b",
   "metadata": {},
   "outputs": [],
   "source": []
  },
  {
   "cell_type": "code",
   "execution_count": null,
   "id": "0909a06e",
   "metadata": {},
   "outputs": [],
   "source": [
    "## export result to Excel\n",
    "### before export, convert lists to Pandas dataframe and check the data"
   ]
  },
  {
   "cell_type": "code",
   "execution_count": 181,
   "id": "11ee73bb",
   "metadata": {},
   "outputs": [],
   "source": [
    "df_final = pd.DataFrame(list(zip(komo_flatten_df_json_final, berat_flatten_df_json_final)), columns=['komoditas','berat'])"
   ]
  },
  {
   "cell_type": "code",
   "execution_count": 182,
   "id": "5a831436",
   "metadata": {},
   "outputs": [
    {
     "name": "stdout",
     "output_type": "stream",
     "text": [
      "<class 'pandas.core.frame.DataFrame'>\n",
      "RangeIndex: 2323 entries, 0 to 2322\n",
      "Data columns (total 2 columns):\n",
      " #   Column     Non-Null Count  Dtype \n",
      "---  ------     --------------  ----- \n",
      " 0   komoditas  2323 non-null   object\n",
      " 1   berat      2323 non-null   object\n",
      "dtypes: object(2)\n",
      "memory usage: 36.4+ KB\n"
     ]
    }
   ],
   "source": [
    "df_final.info()"
   ]
  },
  {
   "cell_type": "code",
   "execution_count": 184,
   "id": "66bf6412",
   "metadata": {
    "scrolled": true
   },
   "outputs": [
    {
     "data": {
      "application/vnd.dataresource+json": {
       "data": [
        {
         "berat": "lele 6kg, bawal 1kg, nila 1kg",
         "index": 0,
         "komoditas": "lele"
        },
        {
         "berat": "lele 6kg, bawal 1kg, nila 1kg",
         "index": 1,
         "komoditas": "bawal"
        },
        {
         "berat": "lele 6kg, bawal 1kg, nila 1kg",
         "index": 2,
         "komoditas": "nila"
        },
        {
         "berat": "kakap 2kg lele 1kg kembung 1kg tongkol 1kg salem 1kg",
         "index": 3,
         "komoditas": "kakap lele kembung tongkol salem"
        },
        {
         "berat": "rata2 1kg kecuali kembung 2kg",
         "index": 4,
         "komoditas": "ikan nila"
        }
       ],
       "schema": {
        "fields": [
         {
          "name": "index",
          "type": "integer"
         },
         {
          "name": "komoditas",
          "type": "string"
         },
         {
          "name": "berat",
          "type": "string"
         }
        ],
        "pandas_version": "0.20.0",
        "primaryKey": [
         "index"
        ]
       }
      },
      "text/html": [
       "<div>\n",
       "<style scoped>\n",
       "    .dataframe tbody tr th:only-of-type {\n",
       "        vertical-align: middle;\n",
       "    }\n",
       "\n",
       "    .dataframe tbody tr th {\n",
       "        vertical-align: top;\n",
       "    }\n",
       "\n",
       "    .dataframe thead th {\n",
       "        text-align: right;\n",
       "    }\n",
       "</style>\n",
       "<table border=\"1\" class=\"dataframe\">\n",
       "  <thead>\n",
       "    <tr style=\"text-align: right;\">\n",
       "      <th></th>\n",
       "      <th>komoditas</th>\n",
       "      <th>berat</th>\n",
       "    </tr>\n",
       "  </thead>\n",
       "  <tbody>\n",
       "    <tr>\n",
       "      <th>0</th>\n",
       "      <td>lele</td>\n",
       "      <td>lele 6kg, bawal 1kg, nila 1kg</td>\n",
       "    </tr>\n",
       "    <tr>\n",
       "      <th>1</th>\n",
       "      <td>bawal</td>\n",
       "      <td>lele 6kg, bawal 1kg, nila 1kg</td>\n",
       "    </tr>\n",
       "    <tr>\n",
       "      <th>2</th>\n",
       "      <td>nila</td>\n",
       "      <td>lele 6kg, bawal 1kg, nila 1kg</td>\n",
       "    </tr>\n",
       "    <tr>\n",
       "      <th>3</th>\n",
       "      <td>kakap lele kembung tongkol salem</td>\n",
       "      <td>kakap 2kg lele 1kg kembung 1kg tongkol 1kg sal...</td>\n",
       "    </tr>\n",
       "    <tr>\n",
       "      <th>4</th>\n",
       "      <td>ikan nila</td>\n",
       "      <td>rata2 1kg kecuali kembung 2kg</td>\n",
       "    </tr>\n",
       "  </tbody>\n",
       "</table>\n",
       "</div>"
      ],
      "text/plain": [
       "                          komoditas  \\\n",
       "0                              lele   \n",
       "1                             bawal   \n",
       "2                              nila   \n",
       "3  kakap lele kembung tongkol salem   \n",
       "4                         ikan nila   \n",
       "\n",
       "                                               berat  \n",
       "0                      lele 6kg, bawal 1kg, nila 1kg  \n",
       "1                      lele 6kg, bawal 1kg, nila 1kg  \n",
       "2                      lele 6kg, bawal 1kg, nila 1kg  \n",
       "3  kakap 2kg lele 1kg kembung 1kg tongkol 1kg sal...  \n",
       "4                      rata2 1kg kecuali kembung 2kg  "
      ]
     },
     "execution_count": 184,
     "metadata": {},
     "output_type": "execute_result"
    }
   ],
   "source": [
    "df_final.head()"
   ]
  },
  {
   "cell_type": "code",
   "execution_count": 185,
   "id": "12273c64",
   "metadata": {},
   "outputs": [],
   "source": [
    "df_final.to_excel(\"soal2.xlsx\", header=True, index=False)"
   ]
  },
  {
   "cell_type": "code",
   "execution_count": null,
   "id": "8caf7eaf",
   "metadata": {},
   "outputs": [],
   "source": []
  },
  {
   "cell_type": "code",
   "execution_count": null,
   "id": "ab84685f",
   "metadata": {},
   "outputs": [],
   "source": [
    "## read with Pandas dataframe to create data aggregation"
   ]
  },
  {
   "cell_type": "code",
   "execution_count": 22,
   "id": "3d76b5b6",
   "metadata": {},
   "outputs": [],
   "source": [
    "df_read = pd.read_excel(\"soal2.xlsx\", header=0, sheet_name=\"Sheet1\")"
   ]
  },
  {
   "cell_type": "code",
   "execution_count": 23,
   "id": "7ce87bc9",
   "metadata": {
    "scrolled": true
   },
   "outputs": [
    {
     "name": "stdout",
     "output_type": "stream",
     "text": [
      "<class 'pandas.core.frame.DataFrame'>\n",
      "RangeIndex: 2428 entries, 0 to 2427\n",
      "Data columns (total 2 columns):\n",
      " #   Column     Non-Null Count  Dtype  \n",
      "---  ------     --------------  -----  \n",
      " 0   komoditas  2428 non-null   object \n",
      " 1   berat      2428 non-null   float64\n",
      "dtypes: float64(1), object(1)\n",
      "memory usage: 38.1+ KB\n"
     ]
    }
   ],
   "source": [
    "df_read.info()"
   ]
  },
  {
   "cell_type": "code",
   "execution_count": 24,
   "id": "67911e57",
   "metadata": {},
   "outputs": [
    {
     "data": {
      "application/vnd.dataresource+json": {
       "data": [
        {
         "berat": 5,
         "index": 0,
         "komoditas": "ayam"
        },
        {
         "berat": 1,
         "index": 1,
         "komoditas": "bandeng"
        },
        {
         "berat": 1,
         "index": 2,
         "komoditas": "bandeng"
        },
        {
         "berat": 1,
         "index": 3,
         "komoditas": "bandeng"
        },
        {
         "berat": 1,
         "index": 4,
         "komoditas": "bandeng"
        }
       ],
       "schema": {
        "fields": [
         {
          "name": "index",
          "type": "integer"
         },
         {
          "name": "komoditas",
          "type": "string"
         },
         {
          "name": "berat",
          "type": "number"
         }
        ],
        "pandas_version": "0.20.0",
        "primaryKey": [
         "index"
        ]
       }
      },
      "text/html": [
       "<div>\n",
       "<style scoped>\n",
       "    .dataframe tbody tr th:only-of-type {\n",
       "        vertical-align: middle;\n",
       "    }\n",
       "\n",
       "    .dataframe tbody tr th {\n",
       "        vertical-align: top;\n",
       "    }\n",
       "\n",
       "    .dataframe thead th {\n",
       "        text-align: right;\n",
       "    }\n",
       "</style>\n",
       "<table border=\"1\" class=\"dataframe\">\n",
       "  <thead>\n",
       "    <tr style=\"text-align: right;\">\n",
       "      <th></th>\n",
       "      <th>komoditas</th>\n",
       "      <th>berat</th>\n",
       "    </tr>\n",
       "  </thead>\n",
       "  <tbody>\n",
       "    <tr>\n",
       "      <th>0</th>\n",
       "      <td>ayam</td>\n",
       "      <td>5.0</td>\n",
       "    </tr>\n",
       "    <tr>\n",
       "      <th>1</th>\n",
       "      <td>bandeng</td>\n",
       "      <td>1.0</td>\n",
       "    </tr>\n",
       "    <tr>\n",
       "      <th>2</th>\n",
       "      <td>bandeng</td>\n",
       "      <td>1.0</td>\n",
       "    </tr>\n",
       "    <tr>\n",
       "      <th>3</th>\n",
       "      <td>bandeng</td>\n",
       "      <td>1.0</td>\n",
       "    </tr>\n",
       "    <tr>\n",
       "      <th>4</th>\n",
       "      <td>bandeng</td>\n",
       "      <td>1.0</td>\n",
       "    </tr>\n",
       "  </tbody>\n",
       "</table>\n",
       "</div>"
      ],
      "text/plain": [
       "  komoditas  berat\n",
       "0      ayam    5.0\n",
       "1   bandeng    1.0\n",
       "2   bandeng    1.0\n",
       "3   bandeng    1.0\n",
       "4   bandeng    1.0"
      ]
     },
     "execution_count": 24,
     "metadata": {},
     "output_type": "execute_result"
    }
   ],
   "source": [
    "df_read.head()"
   ]
  },
  {
   "cell_type": "code",
   "execution_count": 48,
   "id": "98548da5",
   "metadata": {},
   "outputs": [],
   "source": [
    "## aggregate sum and sort by sum of berat descendingly\n",
    "df_agg = df_read.groupby(\"komoditas\", sort=False)[\"berat\"].agg([\"sum\"])\n",
    "df_agg_desc = df_agg.sort_values(by=\"sum\", ascending=False)"
   ]
  },
  {
   "cell_type": "code",
   "execution_count": 49,
   "id": "2a43790b",
   "metadata": {
    "scrolled": true
   },
   "outputs": [
    {
     "data": {
      "application/vnd.dataresource+json": {
       "data": [
        {
         "komoditas": "lele",
         "sum": 2623
        },
        {
         "komoditas": "mas",
         "sum": 1680
        },
        {
         "komoditas": "nila",
         "sum": 1089.5
        },
        {
         "komoditas": "tongkol",
         "sum": 991
        },
        {
         "komoditas": "mujair",
         "sum": 497.5
        },
        {
         "komoditas": "bawal",
         "sum": 443.5
        },
        {
         "komoditas": "kakap",
         "sum": 407
        },
        {
         "komoditas": "gurame",
         "sum": 394.5
        },
        {
         "komoditas": "kembung",
         "sum": 362
        },
        {
         "komoditas": "ikan laut",
         "sum": 129.5
        },
        {
         "komoditas": "kerapu",
         "sum": 113
        },
        {
         "komoditas": "patin",
         "sum": 90.5
        },
        {
         "komoditas": "salem",
         "sum": 59
        },
        {
         "komoditas": "bandeng",
         "sum": 46
        },
        {
         "komoditas": "nila merah",
         "sum": 42.5
        },
        {
         "komoditas": "udang",
         "sum": 31
        },
        {
         "komoditas": "cumi",
         "sum": 27
        },
        {
         "komoditas": "kepiting",
         "sum": 17
        },
        {
         "komoditas": "kerang",
         "sum": 13
        },
        {
         "komoditas": "cakalang",
         "sum": 8
        },
        {
         "komoditas": "etong",
         "sum": 7
        },
        {
         "komoditas": "nila hitam",
         "sum": 5
        },
        {
         "komoditas": "tenggiri",
         "sum": 5
        },
        {
         "komoditas": "ayam",
         "sum": 5
        },
        {
         "komoditas": "ikan tawar",
         "sum": 4
        },
        {
         "komoditas": "baronang",
         "sum": 3
        },
        {
         "komoditas": "pari",
         "sum": 3
        },
        {
         "komoditas": "baracuda",
         "sum": 3
        },
        {
         "komoditas": "gabus",
         "sum": 1
        },
        {
         "komoditas": "pindang",
         "sum": 1
        },
        {
         "komoditas": "jambal",
         "sum": 0.5
        }
       ],
       "schema": {
        "fields": [
         {
          "name": "komoditas",
          "type": "string"
         },
         {
          "name": "sum",
          "type": "number"
         }
        ],
        "pandas_version": "0.20.0",
        "primaryKey": [
         "komoditas"
        ]
       }
      },
      "text/html": [
       "<div>\n",
       "<style scoped>\n",
       "    .dataframe tbody tr th:only-of-type {\n",
       "        vertical-align: middle;\n",
       "    }\n",
       "\n",
       "    .dataframe tbody tr th {\n",
       "        vertical-align: top;\n",
       "    }\n",
       "\n",
       "    .dataframe thead th {\n",
       "        text-align: right;\n",
       "    }\n",
       "</style>\n",
       "<table border=\"1\" class=\"dataframe\">\n",
       "  <thead>\n",
       "    <tr style=\"text-align: right;\">\n",
       "      <th></th>\n",
       "      <th>sum</th>\n",
       "    </tr>\n",
       "    <tr>\n",
       "      <th>komoditas</th>\n",
       "      <th></th>\n",
       "    </tr>\n",
       "  </thead>\n",
       "  <tbody>\n",
       "    <tr>\n",
       "      <th>lele</th>\n",
       "      <td>2623.0</td>\n",
       "    </tr>\n",
       "    <tr>\n",
       "      <th>mas</th>\n",
       "      <td>1680.0</td>\n",
       "    </tr>\n",
       "    <tr>\n",
       "      <th>nila</th>\n",
       "      <td>1089.5</td>\n",
       "    </tr>\n",
       "    <tr>\n",
       "      <th>tongkol</th>\n",
       "      <td>991.0</td>\n",
       "    </tr>\n",
       "    <tr>\n",
       "      <th>mujair</th>\n",
       "      <td>497.5</td>\n",
       "    </tr>\n",
       "    <tr>\n",
       "      <th>bawal</th>\n",
       "      <td>443.5</td>\n",
       "    </tr>\n",
       "    <tr>\n",
       "      <th>kakap</th>\n",
       "      <td>407.0</td>\n",
       "    </tr>\n",
       "    <tr>\n",
       "      <th>gurame</th>\n",
       "      <td>394.5</td>\n",
       "    </tr>\n",
       "    <tr>\n",
       "      <th>kembung</th>\n",
       "      <td>362.0</td>\n",
       "    </tr>\n",
       "    <tr>\n",
       "      <th>ikan laut</th>\n",
       "      <td>129.5</td>\n",
       "    </tr>\n",
       "    <tr>\n",
       "      <th>kerapu</th>\n",
       "      <td>113.0</td>\n",
       "    </tr>\n",
       "    <tr>\n",
       "      <th>patin</th>\n",
       "      <td>90.5</td>\n",
       "    </tr>\n",
       "    <tr>\n",
       "      <th>salem</th>\n",
       "      <td>59.0</td>\n",
       "    </tr>\n",
       "    <tr>\n",
       "      <th>bandeng</th>\n",
       "      <td>46.0</td>\n",
       "    </tr>\n",
       "    <tr>\n",
       "      <th>nila merah</th>\n",
       "      <td>42.5</td>\n",
       "    </tr>\n",
       "    <tr>\n",
       "      <th>udang</th>\n",
       "      <td>31.0</td>\n",
       "    </tr>\n",
       "    <tr>\n",
       "      <th>cumi</th>\n",
       "      <td>27.0</td>\n",
       "    </tr>\n",
       "    <tr>\n",
       "      <th>kepiting</th>\n",
       "      <td>17.0</td>\n",
       "    </tr>\n",
       "    <tr>\n",
       "      <th>kerang</th>\n",
       "      <td>13.0</td>\n",
       "    </tr>\n",
       "    <tr>\n",
       "      <th>cakalang</th>\n",
       "      <td>8.0</td>\n",
       "    </tr>\n",
       "    <tr>\n",
       "      <th>etong</th>\n",
       "      <td>7.0</td>\n",
       "    </tr>\n",
       "    <tr>\n",
       "      <th>nila hitam</th>\n",
       "      <td>5.0</td>\n",
       "    </tr>\n",
       "    <tr>\n",
       "      <th>tenggiri</th>\n",
       "      <td>5.0</td>\n",
       "    </tr>\n",
       "    <tr>\n",
       "      <th>ayam</th>\n",
       "      <td>5.0</td>\n",
       "    </tr>\n",
       "    <tr>\n",
       "      <th>ikan tawar</th>\n",
       "      <td>4.0</td>\n",
       "    </tr>\n",
       "    <tr>\n",
       "      <th>baronang</th>\n",
       "      <td>3.0</td>\n",
       "    </tr>\n",
       "    <tr>\n",
       "      <th>pari</th>\n",
       "      <td>3.0</td>\n",
       "    </tr>\n",
       "    <tr>\n",
       "      <th>baracuda</th>\n",
       "      <td>3.0</td>\n",
       "    </tr>\n",
       "    <tr>\n",
       "      <th>gabus</th>\n",
       "      <td>1.0</td>\n",
       "    </tr>\n",
       "    <tr>\n",
       "      <th>pindang</th>\n",
       "      <td>1.0</td>\n",
       "    </tr>\n",
       "    <tr>\n",
       "      <th>jambal</th>\n",
       "      <td>0.5</td>\n",
       "    </tr>\n",
       "  </tbody>\n",
       "</table>\n",
       "</div>"
      ],
      "text/plain": [
       "               sum\n",
       "komoditas         \n",
       "lele        2623.0\n",
       "mas         1680.0\n",
       "nila        1089.5\n",
       "tongkol      991.0\n",
       "mujair       497.5\n",
       "bawal        443.5\n",
       "kakap        407.0\n",
       "gurame       394.5\n",
       "kembung      362.0\n",
       "ikan laut    129.5\n",
       "kerapu       113.0\n",
       "patin         90.5\n",
       "salem         59.0\n",
       "bandeng       46.0\n",
       "nila merah    42.5\n",
       "udang         31.0\n",
       "cumi          27.0\n",
       "kepiting      17.0\n",
       "kerang        13.0\n",
       "cakalang       8.0\n",
       "etong          7.0\n",
       "nila hitam     5.0\n",
       "tenggiri       5.0\n",
       "ayam           5.0\n",
       "ikan tawar     4.0\n",
       "baronang       3.0\n",
       "pari           3.0\n",
       "baracuda       3.0\n",
       "gabus          1.0\n",
       "pindang        1.0\n",
       "jambal         0.5"
      ]
     },
     "execution_count": 49,
     "metadata": {},
     "output_type": "execute_result"
    }
   ],
   "source": [
    "df_agg_desc"
   ]
  },
  {
   "cell_type": "code",
   "execution_count": null,
   "id": "535653dc",
   "metadata": {},
   "outputs": [],
   "source": []
  }
 ],
 "metadata": {
  "kernelspec": {
   "display_name": "Python 3",
   "language": "python",
   "name": "python3"
  },
  "language_info": {
   "codemirror_mode": {
    "name": "ipython",
    "version": 3
   },
   "file_extension": ".py",
   "mimetype": "text/x-python",
   "name": "python",
   "nbconvert_exporter": "python",
   "pygments_lexer": "ipython3",
   "version": "3.8.5"
  }
 },
 "nbformat": 4,
 "nbformat_minor": 5
}
